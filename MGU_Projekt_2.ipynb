{
  "nbformat": 4,
  "nbformat_minor": 0,
  "metadata": {
    "colab": {
      "name": "MGU_Projekt_2.ipynb",
      "provenance": [],
      "collapsed_sections": [],
      "toc_visible": true,
      "authorship_tag": "ABX9TyNlNKkZxwHWuZco8Q2lf0TC",
      "include_colab_link": true
    },
    "kernelspec": {
      "name": "python3",
      "display_name": "Python 3"
    },
    "accelerator": "GPU"
  },
  "cells": [
    {
      "cell_type": "markdown",
      "metadata": {
        "id": "view-in-github",
        "colab_type": "text"
      },
      "source": [
        "<a href=\"https://colab.research.google.com/github/gvnbleid/2020-GUM/blob/master/MGU_Projekt_2.ipynb\" target=\"_parent\"><img src=\"https://colab.research.google.com/assets/colab-badge.svg\" alt=\"Open In Colab\"/></a>"
      ]
    },
    {
      "cell_type": "markdown",
      "metadata": {
        "id": "M9Hp_79xzNHL",
        "colab_type": "text"
      },
      "source": [
        "# Integracja z Google Drive"
      ]
    },
    {
      "cell_type": "code",
      "metadata": {
        "id": "Cic3sCC_zWw-",
        "colab_type": "code",
        "colab": {
          "base_uri": "https://localhost:8080/",
          "height": 34
        },
        "outputId": "40bcec89-ffb9-468f-d40c-399b54b84a38"
      },
      "source": [
        "from google.colab import drive\n",
        "drive.mount('/content/gdrive')\n",
        "BASE_DIR = '/content/gdrive/My Drive/DL2020/Projekt2/'"
      ],
      "execution_count": 110,
      "outputs": [
        {
          "output_type": "stream",
          "text": [
            "Drive already mounted at /content/gdrive; to attempt to forcibly remount, call drive.mount(\"/content/gdrive\", force_remount=True).\n"
          ],
          "name": "stdout"
        }
      ]
    },
    {
      "cell_type": "markdown",
      "metadata": {
        "id": "qGdF3mbTx5wX",
        "colab_type": "text"
      },
      "source": [
        "# Sieć konwolucyjna"
      ]
    },
    {
      "cell_type": "markdown",
      "metadata": {
        "id": "TbzarbsUzYmX",
        "colab_type": "text"
      },
      "source": [
        "## Konfiguracja wstępna"
      ]
    },
    {
      "cell_type": "code",
      "metadata": {
        "id": "MCe_msV2M8CU",
        "colab_type": "code",
        "colab": {}
      },
      "source": [
        "%matplotlib inline"
      ],
      "execution_count": 0,
      "outputs": []
    },
    {
      "cell_type": "code",
      "metadata": {
        "id": "NqrpJX4iNbNb",
        "colab_type": "code",
        "colab": {}
      },
      "source": [
        "import torch\n",
        "import torchvision\n",
        "import torchvision.transforms as transforms"
      ],
      "execution_count": 0,
      "outputs": []
    },
    {
      "cell_type": "code",
      "metadata": {
        "id": "5lATCtCUUBO1",
        "colab_type": "code",
        "outputId": "921164af-d7e3-4eb9-cdff-979dcbe2f75a",
        "colab": {
          "base_uri": "https://localhost:8080/",
          "height": 34
        }
      },
      "source": [
        "device = torch.device(\"cuda:0\" if torch.cuda.is_available() else \"cuda not available\")\n",
        "print(device)"
      ],
      "execution_count": 113,
      "outputs": [
        {
          "output_type": "stream",
          "text": [
            "cuda:0\n"
          ],
          "name": "stdout"
        }
      ]
    },
    {
      "cell_type": "code",
      "metadata": {
        "id": "SxVjlRlJSKMn",
        "colab_type": "code",
        "colab": {}
      },
      "source": [
        "class AddGaussianNoise(object):\n",
        "    def __init__(self, mean=0., std=1.):\n",
        "        self.std = std\n",
        "        self.mean = mean\n",
        "        \n",
        "    def __call__(self, tensor):\n",
        "        return tensor + torch.randn(tensor.size()) * self.std + self.mean\n",
        "    \n",
        "    def __repr__(self):\n",
        "        return self.__class__.__name__ + '(mean={0}, std={1})'.format(self.mean, self.std)"
      ],
      "execution_count": 0,
      "outputs": []
    },
    {
      "cell_type": "markdown",
      "metadata": {
        "id": "2TspiX6PyB9N",
        "colab_type": "text"
      },
      "source": [
        "## Ustawienia augmentacji danych"
      ]
    },
    {
      "cell_type": "code",
      "metadata": {
        "id": "kB33jB3zhpTy",
        "colab_type": "code",
        "colab": {},
        "cellView": "both"
      },
      "source": [
        "#@title Metody augmentacji { run: \"auto\" }\n",
        "translation_checkbox = False #@param {type:\"boolean\"}\n",
        "flip_checkbox = False #@param {type:\"boolean\"}\n",
        "rotation_checkbox = False #@param {type:\"boolean\"}\n",
        "noise_checkbox = False #@param {type:\"boolean\"}"
      ],
      "execution_count": 0,
      "outputs": []
    },
    {
      "cell_type": "code",
      "metadata": {
        "id": "mI6JH0NqNdMy",
        "colab_type": "code",
        "colab": {}
      },
      "source": [
        "transforms_array = []\n",
        "\n",
        "if translation_checkbox:\n",
        "    transforms_array.append(transforms.RandomAffine(0, (0.2, 0.2)))\n",
        "if flip_checkbox:\n",
        "    transforms_array.append(transforms.RandomHorizontalFlip())\n",
        "if rotation_checkbox:\n",
        "    transforms_array.append(transforms.RandomRotation(30))\n",
        "\n",
        "transforms_array.append(transforms.ToTensor())\n",
        "transforms_array.append(transforms.Normalize((0.5, 0.5, 0.5), (0.5, 0.5, 0.5)))\n",
        "\n",
        "if noise_checkbox:\n",
        "    transforms_array.append(AddGaussianNoise(0., 0.2))"
      ],
      "execution_count": 0,
      "outputs": []
    },
    {
      "cell_type": "markdown",
      "metadata": {
        "id": "fgDB0MJEyLUv",
        "colab_type": "text"
      },
      "source": [
        "## Wczytanie danych"
      ]
    },
    {
      "cell_type": "code",
      "metadata": {
        "id": "23wbllWBNfEX",
        "colab_type": "code",
        "outputId": "1328683c-37f7-4194-c9ff-6b8f57257c52",
        "colab": {
          "base_uri": "https://localhost:8080/",
          "height": 52
        }
      },
      "source": [
        "transform = transforms.Compose(transforms_array)\n",
        "\n",
        "trainset = torchvision.datasets.CIFAR10(root='./data', train=True,\n",
        "                                        download=True, transform=transform)\n",
        "trainloader = torch.utils.data.DataLoader(trainset, batch_size=4,\n",
        "                                          shuffle=True, num_workers=2)\n",
        "\n",
        "testset = torchvision.datasets.CIFAR10(root='./data', train=False,\n",
        "                                       download=True, transform=transform)\n",
        "testloader = torch.utils.data.DataLoader(testset, batch_size=4,\n",
        "                                         shuffle=False, num_workers=2)\n",
        "\n",
        "classes = ('plane', 'car', 'bird', 'cat',\n",
        "           'deer', 'dog', 'frog', 'horse', 'ship', 'truck')"
      ],
      "execution_count": 117,
      "outputs": [
        {
          "output_type": "stream",
          "text": [
            "Files already downloaded and verified\n",
            "Files already downloaded and verified\n"
          ],
          "name": "stdout"
        }
      ]
    },
    {
      "cell_type": "code",
      "metadata": {
        "id": "kYmSq26eShKe",
        "colab_type": "code",
        "outputId": "fd07a7e5-8755-480d-da7b-6ad65e9173fc",
        "colab": {
          "base_uri": "https://localhost:8080/",
          "height": 155
        }
      },
      "source": [
        "import matplotlib.pyplot as plt\n",
        "import numpy as np\n",
        "\n",
        "# functions to show an image\n",
        "\n",
        "\n",
        "def imshow(img):\n",
        "    img = img / 2 + 0.5     # unnormalize\n",
        "    npimg = img.numpy()\n",
        "    plt.imshow(np.transpose(npimg, (1, 2, 0)))\n",
        "\n",
        "\n",
        "# get some random training images\n",
        "dataiter = iter(trainloader)\n",
        "images, labels = dataiter.next()\n",
        "\n",
        "# show images\n",
        "imshow(torchvision.utils.make_grid(images))\n",
        "# print labels\n",
        "print(' '.join('%5s' % classes[labels[j]] for j in range(4)))"
      ],
      "execution_count": 118,
      "outputs": [
        {
          "output_type": "stream",
          "text": [
            "plane plane   dog truck\n"
          ],
          "name": "stdout"
        },
        {
          "output_type": "display_data",
          "data": {
            "image/png": "[encoded data removed]",
            "text/plain": [
              "<Figure size 432x288 with 1 Axes>"
            ]
          },
          "metadata": {
            "tags": []
          }
        }
      ]
    },
    {
      "cell_type": "markdown",
      "metadata": {
        "id": "PhcF_PqpygER",
        "colab_type": "text"
      },
      "source": [
        "## Konfiguracja sieci"
      ]
    },
    {
      "cell_type": "code",
      "metadata": {
        "id": "HMipY73C0G_K",
        "colab_type": "code",
        "colab": {
          "base_uri": "https://localhost:8080/",
          "height": 156
        },
        "outputId": "1b822d61-05f6-49e8-b6f8-36ef97bf7884"
      },
      "source": [
        "#@title Wybór konfiguracji { run: \"auto\" }\n",
        "\n",
        "config = \"PyTorch tutorial\" #@param [\"Adventures in Machine Learning\", \"PyTorch tutorial\"]\n",
        "\n",
        "last_epoch = 0\n",
        "last_loss = None\n",
        "\n",
        "class Net(nn.Module):\n",
        "    if config == \"PyTorch tutorial\":\n",
        "        def __init__(self):\n",
        "            super(Net, self).__init__()\n",
        "            self.conv1 = nn.Conv2d(3, 6, 5)\n",
        "            self.pool = nn.MaxPool2d(2, 2)\n",
        "            self.conv2 = nn.Conv2d(6, 16, 5)\n",
        "            self.fc1 = nn.Linear(16 * 5 * 5, 120)\n",
        "            self.fc2 = nn.Linear(120, 84)\n",
        "            self.fc3 = nn.Linear(84, 10)\n",
        "\n",
        "        def forward(self, x):\n",
        "            x = self.pool(F.relu(self.conv1(x)))\n",
        "            x = self.pool(F.relu(self.conv2(x)))\n",
        "            x = x.view(-1, 16 * 5 * 5)\n",
        "            x = F.relu(self.fc1(x))\n",
        "            x = F.relu(self.fc2(x))\n",
        "            x = self.fc3(x)\n",
        "            return x\n",
        "\n",
        "    elif config == \"Adventures in Machine Learning\":\n",
        "        def __init__(self):\n",
        "            super(Net, self).__init__()\n",
        "            self.conv1 = nn.Conv2d(3, 32, 5)\n",
        "            self.pool = nn.MaxPool2d(2, 2)\n",
        "            self.conv2 = nn.Conv2d(32, 64, 5)\n",
        "            self.fc1 = nn.Linear(64 * 5 * 5, 1000)\n",
        "            self.fc2 = nn.Linear(1000, 10)\n",
        "\n",
        "        def forward(self, x):\n",
        "            x = self.pool(F.relu(self.conv1(x)))\n",
        "            x = self.pool(F.relu(self.conv2(x)))\n",
        "            x = x.view(-1, 64 * 5 * 5)\n",
        "            x = F.relu(self.fc1(x))\n",
        "            x = F.softmax(self.fc2(x), dim=0)\n",
        "            return x\n",
        "\n",
        "net = Net().to(device)\n",
        "net"
      ],
      "execution_count": 119,
      "outputs": [
        {
          "output_type": "execute_result",
          "data": {
            "text/plain": [
              "Net(\n",
              "  (conv1): Conv2d(3, 6, kernel_size=(5, 5), stride=(1, 1))\n",
              "  (pool): MaxPool2d(kernel_size=2, stride=2, padding=0, dilation=1, ceil_mode=False)\n",
              "  (conv2): Conv2d(6, 16, kernel_size=(5, 5), stride=(1, 1))\n",
              "  (fc1): Linear(in_features=400, out_features=120, bias=True)\n",
              "  (fc2): Linear(in_features=120, out_features=84, bias=True)\n",
              "  (fc3): Linear(in_features=84, out_features=10, bias=True)\n",
              ")"
            ]
          },
          "metadata": {
            "tags": []
          },
          "execution_count": 119
        }
      ]
    },
    {
      "cell_type": "code",
      "metadata": {
        "id": "FbRjtB1vUwW0",
        "colab_type": "code",
        "colab": {}
      },
      "source": [
        "import torch.optim as optim\n",
        "\n",
        "criterion = nn.CrossEntropyLoss()\n",
        "optimizer = optim.SGD(net.parameters(), lr=0.001, momentum=0.9)"
      ],
      "execution_count": 0,
      "outputs": []
    },
    {
      "cell_type": "markdown",
      "metadata": {
        "id": "-5dtraYJ9wTC",
        "colab_type": "text"
      },
      "source": [
        "### Wczytanie stanu sieci (opcjonalne)"
      ]
    },
    {
      "cell_type": "code",
      "metadata": {
        "id": "cEhQaYFv96A8",
        "colab_type": "code",
        "colab": {}
      },
      "source": [
        "load_state = False #@param {type: \"boolean\"}\n",
        "path = \"\" #@param {type: \"string\"}\n",
        "\n",
        "if load_state:\n",
        "    checkpoint = torch.load(path)\n",
        "    net.load_state_dict(checkpoint['model_state_dict'])\n",
        "    optimizer.load_state_dict(checkpoint['optimizer_state_dict'])\n",
        "    criterion.load_state_dict(checkpoint['criterion_state_dict'])\n",
        "    last_epoch = checkpoint['epoch']\n",
        "    last_loss = checkpoint['loss']\n",
        "\n",
        "    model.eval()"
      ],
      "execution_count": 0,
      "outputs": []
    },
    {
      "cell_type": "markdown",
      "metadata": {
        "id": "DFMSpV6Jywf_",
        "colab_type": "text"
      },
      "source": [
        "## Uczenie sieci"
      ]
    },
    {
      "cell_type": "code",
      "metadata": {
        "id": "QlEUIGAAU096",
        "colab_type": "code",
        "outputId": "6bff8521-51f9-4baa-9f2f-cb302b074b62",
        "colab": {
          "base_uri": "https://localhost:8080/",
          "height": 1000
        }
      },
      "source": [
        "nb_epoch = 10 #@param {type: \"integer\"}\n",
        "loss_array = []\n",
        "\n",
        "for epoch in range(nb_epoch):  # loop over the dataset multiple times\n",
        "\n",
        "    last_epoch = last_epoch + 1\n",
        "    running_loss = 0.0\n",
        "    for i, data in enumerate(trainloader, 0):\n",
        "        # get the inputs\n",
        "        inputs, labels = data\n",
        "        inputs, labels = inputs.to(device), labels.to(device)\n",
        "\n",
        "        # zero the parameter gradients\n",
        "        optimizer.zero_grad()\n",
        "\n",
        "        # forward + backward + optimize\n",
        "        outputs = net(inputs)\n",
        "        loss = criterion(outputs, labels)\n",
        "        loss.backward()\n",
        "        optimizer.step()\n",
        "\n",
        "        # print statistics\n",
        "        running_loss += loss.item()\n",
        "        if i % 2000 == 1999:    # print every 2000 mini-batches\n",
        "            last_loss = running_loss / 2000\n",
        "            print('[%d, %5d] loss: %.3f' %\n",
        "                (last_epoch, i + 1, last_loss))\n",
        "            \n",
        "            loss_array.append(last_loss)\n",
        "\n",
        "            running_loss = 0.0\n",
        "print('Finished Training')"
      ],
      "execution_count": 122,
      "outputs": [
        {
          "output_type": "stream",
          "text": [
            "[1,  2000] loss: 2.179\n",
            "[1,  4000] loss: 1.882\n",
            "[1,  6000] loss: 1.715\n",
            "[1,  8000] loss: 1.619\n",
            "[1, 10000] loss: 1.559\n",
            "[1, 12000] loss: 1.511\n",
            "[2,  2000] loss: 1.430\n",
            "[2,  4000] loss: 1.391\n",
            "[2,  6000] loss: 1.369\n",
            "[2,  8000] loss: 1.333\n",
            "[2, 10000] loss: 1.330\n",
            "[2, 12000] loss: 1.286\n",
            "[3,  2000] loss: 1.210\n",
            "[3,  4000] loss: 1.200\n",
            "[3,  6000] loss: 1.198\n",
            "[3,  8000] loss: 1.197\n",
            "[3, 10000] loss: 1.180\n",
            "[3, 12000] loss: 1.156\n",
            "[4,  2000] loss: 1.094\n",
            "[4,  4000] loss: 1.103\n",
            "[4,  6000] loss: 1.094\n",
            "[4,  8000] loss: 1.111\n",
            "[4, 10000] loss: 1.100\n",
            "[4, 12000] loss: 1.106\n",
            "[5,  2000] loss: 1.019\n",
            "[5,  4000] loss: 1.039\n",
            "[5,  6000] loss: 1.036\n",
            "[5,  8000] loss: 1.047\n",
            "[5, 10000] loss: 1.051\n",
            "[5, 12000] loss: 1.042\n",
            "[6,  2000] loss: 0.953\n",
            "[6,  4000] loss: 0.976\n",
            "[6,  6000] loss: 0.973\n",
            "[6,  8000] loss: 0.989\n",
            "[6, 10000] loss: 1.013\n",
            "[6, 12000] loss: 0.974\n",
            "[7,  2000] loss: 0.891\n",
            "[7,  4000] loss: 0.919\n",
            "[7,  6000] loss: 0.941\n",
            "[7,  8000] loss: 0.943\n",
            "[7, 10000] loss: 0.955\n",
            "[7, 12000] loss: 0.962\n",
            "[8,  2000] loss: 0.878\n",
            "[8,  4000] loss: 0.871\n",
            "[8,  6000] loss: 0.890\n",
            "[8,  8000] loss: 0.893\n",
            "[8, 10000] loss: 0.927\n",
            "[8, 12000] loss: 0.904\n",
            "[9,  2000] loss: 0.807\n",
            "[9,  4000] loss: 0.846\n",
            "[9,  6000] loss: 0.869\n",
            "[9,  8000] loss: 0.883\n",
            "[9, 10000] loss: 0.897\n",
            "[9, 12000] loss: 0.875\n",
            "[10,  2000] loss: 0.775\n",
            "[10,  4000] loss: 0.824\n",
            "[10,  6000] loss: 0.838\n",
            "[10,  8000] loss: 0.856\n",
            "[10, 10000] loss: 0.863\n",
            "[10, 12000] loss: 0.853\n",
            "Finished Training\n"
          ],
          "name": "stdout"
        }
      ]
    },
    {
      "cell_type": "markdown",
      "metadata": {
        "id": "M1Zt3tB75fcR",
        "colab_type": "text"
      },
      "source": [
        "### Zapis stanu modelu (opcjonalne)"
      ]
    },
    {
      "cell_type": "code",
      "metadata": {
        "id": "QMj0iZ3oacsW",
        "colab_type": "code",
        "colab": {}
      },
      "source": [
        "from datetime import datetime\n",
        "\n",
        "def append_timestamp(path):\n",
        "    now = datetime.now()\n",
        "    current_time = now.strftime(\"%y.%m.%d_%H:%M:%S\")\n",
        "    return path.replace(\".\", f\"_{current_time}.\")"
      ],
      "execution_count": 0,
      "outputs": []
    },
    {
      "cell_type": "code",
      "metadata": {
        "id": "P3IHZ3gd5joY",
        "colab_type": "code",
        "colab": {}
      },
      "source": [
        "save_state = True #@param {type: \"boolean\"}\n",
        "path = \"pytorch_tutorial.pt\" #@param {type: \"string\"}\n",
        "use_timestamp = True #@param {type: \"boolean\"}\n",
        "\n",
        "if save_state:\n",
        "    if use_timestamp:\n",
        "        path = append_timestamp(path)\n",
        "    torch.save({\n",
        "                'epoch': last_epoch,\n",
        "                'model_state_dict': net.state_dict(),\n",
        "                'optimizer_state_dict': optimizer.state_dict(),\n",
        "                'criterion_state_dict': criterion.state_dict(),\n",
        "                'loss': last_loss\n",
        "                }, BASE_DIR + path)"
      ],
      "execution_count": 0,
      "outputs": []
    },
    {
      "cell_type": "markdown",
      "metadata": {
        "id": "wlBbKXjWzA7U",
        "colab_type": "text"
      },
      "source": [
        "## Wyniki"
      ]
    },
    {
      "cell_type": "code",
      "metadata": {
        "id": "Ut2ufVTuVOFH",
        "colab_type": "code",
        "outputId": "a378f925-b327-4649-f2ab-f45d13e9bf5f",
        "colab": {
          "base_uri": "https://localhost:8080/",
          "height": 34
        }
      },
      "source": [
        "correct = 0\n",
        "total = 0\n",
        "with torch.no_grad():\n",
        "    for data in testloader:\n",
        "        images, labels = data\n",
        "        images, labels = images.to(device), labels.to(device)\n",
        "        outputs = net(images)\n",
        "        _, predicted = torch.max(outputs.data, 1)\n",
        "        total += labels.size(0)\n",
        "        correct += (predicted == labels).sum().item()\n",
        "\n",
        "accuracy = correct / total\n",
        "print('Accuracy of the network on the 10000 test images: %d %%' % (\n",
        "    100 * accuracy))"
      ],
      "execution_count": 125,
      "outputs": [
        {
          "output_type": "stream",
          "text": [
            "Accuracy of the network on the 10000 test images: 61 %\n"
          ],
          "name": "stdout"
        }
      ]
    },
    {
      "cell_type": "code",
      "metadata": {
        "id": "AOYCGXPAVRMZ",
        "colab_type": "code",
        "outputId": "42657327-8f8e-457c-d1ec-80fcc65426f7",
        "colab": {
          "base_uri": "https://localhost:8080/",
          "height": 191
        }
      },
      "source": [
        "class_correct = list(0. for i in range(10))\n",
        "class_total = list(0. for i in range(10))\n",
        "with torch.no_grad():\n",
        "    for data in testloader:\n",
        "        images, labels = data\n",
        "        images, labels = images.to(device), labels.to(device)\n",
        "        outputs = net(images)\n",
        "        _, predicted = torch.max(outputs, 1)\n",
        "        c = (predicted == labels).squeeze()\n",
        "        for i in range(4):\n",
        "            label = labels[i]\n",
        "            class_correct[label] += c[i].item()\n",
        "            class_total[label] += 1\n",
        "\n",
        "accuracy_per_class = []\n",
        "\n",
        "for i in range(10):\n",
        "    accuracy_per_class.append({\n",
        "                               'class': classes[i], \n",
        "                               'accuracy': class_correct[i] / class_total[i]\n",
        "                               })\n",
        "    print('Accuracy of %5s : %2d %%' % (\n",
        "        classes[i], 100 * class_correct[i] / class_total[i]))"
      ],
      "execution_count": 126,
      "outputs": [
        {
          "output_type": "stream",
          "text": [
            "Accuracy of plane : 66 %\n",
            "Accuracy of   car : 83 %\n",
            "Accuracy of  bird : 49 %\n",
            "Accuracy of   cat : 55 %\n",
            "Accuracy of  deer : 61 %\n",
            "Accuracy of   dog : 33 %\n",
            "Accuracy of  frog : 65 %\n",
            "Accuracy of horse : 68 %\n",
            "Accuracy of  ship : 69 %\n",
            "Accuracy of truck : 65 %\n"
          ],
          "name": "stdout"
        }
      ]
    },
    {
      "cell_type": "markdown",
      "metadata": {
        "id": "HaHcNGxUNxyu",
        "colab_type": "text"
      },
      "source": [
        "### Zapis wyników (opcjonalne)"
      ]
    },
    {
      "cell_type": "code",
      "metadata": {
        "id": "9XSrgc_SN3fr",
        "colab_type": "code",
        "colab": {}
      },
      "source": [
        "save_results_state = True #@param {type: \"boolean\"}\n",
        "use_timestamp = True #@param {type: \"boolean\"}\n",
        "path = \"pytorch_tutorial.json\" #@param {type: \"string\"}\n",
        "\n",
        "from datetime import datetime\n",
        "import json\n",
        "import codecs\n",
        "\n",
        "if save_results_state:\n",
        "    if use_timestamp:\n",
        "        path = append_timestamp(path)\n",
        "\n",
        "    json.dump(dict(accuracy=accuracy, accuracy_per_class=accuracy_per_class),\n",
        "              codecs.open(BASE_DIR + path, 'w', encoding='utf-8'))"
      ],
      "execution_count": 0,
      "outputs": []
    },
    {
      "cell_type": "markdown",
      "metadata": {
        "id": "lZ_bbCQBY4ML",
        "colab_type": "text"
      },
      "source": [
        "## Wykresy"
      ]
    },
    {
      "cell_type": "code",
      "metadata": {
        "id": "9OsDHNGBY5P2",
        "colab_type": "code",
        "colab": {
          "base_uri": "https://localhost:8080/",
          "height": 282
        },
        "outputId": "b3c5b0b6-215b-4eb8-edea-de21fcd5ddd5"
      },
      "source": [
        "import matplotlib.pyplot as plt\n",
        "\n",
        "plt.plot(loss_array)"
      ],
      "execution_count": 128,
      "outputs": [
        {
          "output_type": "execute_result",
          "data": {
            "text/plain": [
              "[<matplotlib.lines.Line2D at 0x7fb0341580b8>]"
            ]
          },
          "metadata": {
            "tags": []
          },
          "execution_count": 128
        },
        {
          "output_type": "display_data",
          "data": {
            "image/png": "[encoded data removed]",
            "text/plain": [
              "<Figure size 432x288 with 1 Axes>"
            ]
          },
          "metadata": {
            "tags": []
          }
        }
      ]
    }
  ]
}