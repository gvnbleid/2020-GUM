{
  "nbformat": 4,
  "nbformat_minor": 0,
  "metadata": {
    "colab": {
      "name": "MGU_Projekt_2.ipynb",
      "provenance": [],
      "collapsed_sections": [],
      "toc_visible": true,
      "include_colab_link": true
    },
    "kernelspec": {
      "name": "python3",
      "display_name": "Python 3"
    },
    "accelerator": "GPU",
    "widgets": {
      "application/vnd.jupyter.widget-state+json": {
        "87b306d01e6a4b5da4ca875ae120077a": {
          "model_module": "@jupyter-widgets/controls",
          "model_name": "HBoxModel",
          "state": {
            "_view_name": "HBoxView",
            "_dom_classes": [],
            "_model_name": "HBoxModel",
            "_view_module": "@jupyter-widgets/controls",
            "_model_module_version": "1.5.0",
            "_view_count": null,
            "_view_module_version": "1.5.0",
            "box_style": "",
            "layout": "IPY_MODEL_88d2132a043d4f838d029b09a1b7e2c1",
            "_model_module": "@jupyter-widgets/controls",
            "children": [
              "IPY_MODEL_573e6bd15dbd4854a191581421256d50",
              "IPY_MODEL_8a9492e39db44594a9852644e1ab098f"
            ]
          }
        },
        "88d2132a043d4f838d029b09a1b7e2c1": {
          "model_module": "@jupyter-widgets/base",
          "model_name": "LayoutModel",
          "state": {
            "_view_name": "LayoutView",
            "grid_template_rows": null,
            "right": null,
            "justify_content": null,
            "_view_module": "@jupyter-widgets/base",
            "overflow": null,
            "_model_module_version": "1.2.0",
            "_view_count": null,
            "flex_flow": null,
            "width": null,
            "min_width": null,
            "border": null,
            "align_items": null,
            "bottom": null,
            "_model_module": "@jupyter-widgets/base",
            "top": null,
            "grid_column": null,
            "overflow_y": null,
            "overflow_x": null,
            "grid_auto_flow": null,
            "grid_area": null,
            "grid_template_columns": null,
            "flex": null,
            "_model_name": "LayoutModel",
            "justify_items": null,
            "grid_row": null,
            "max_height": null,
            "align_content": null,
            "visibility": null,
            "align_self": null,
            "height": null,
            "min_height": null,
            "padding": null,
            "grid_auto_rows": null,
            "grid_gap": null,
            "max_width": null,
            "order": null,
            "_view_module_version": "1.2.0",
            "grid_template_areas": null,
            "object_position": null,
            "object_fit": null,
            "grid_auto_columns": null,
            "margin": null,
            "display": null,
            "left": null
          }
        },
        "573e6bd15dbd4854a191581421256d50": {
          "model_module": "@jupyter-widgets/controls",
          "model_name": "IntProgressModel",
          "state": {
            "_view_name": "ProgressView",
            "style": "IPY_MODEL_2f139c1f1c95425ca7cf34444551932b",
            "_dom_classes": [],
            "description": "",
            "_model_name": "IntProgressModel",
            "bar_style": "info",
            "max": 1,
            "_view_module": "@jupyter-widgets/controls",
            "_model_module_version": "1.5.0",
            "value": 1,
            "_view_count": null,
            "_view_module_version": "1.5.0",
            "orientation": "horizontal",
            "min": 0,
            "description_tooltip": null,
            "_model_module": "@jupyter-widgets/controls",
            "layout": "IPY_MODEL_7e6c571e1a194f29908ba5aac47cbbfa"
          }
        },
        "8a9492e39db44594a9852644e1ab098f": {
          "model_module": "@jupyter-widgets/controls",
          "model_name": "HTMLModel",
          "state": {
            "_view_name": "HTMLView",
            "style": "IPY_MODEL_7ef2d635e0344527a0863f5c018f4bd2",
            "_dom_classes": [],
            "description": "",
            "_model_name": "HTMLModel",
            "placeholder": "​",
            "_view_module": "@jupyter-widgets/controls",
            "_model_module_version": "1.5.0",
            "value": " 170500096/? [00:30&lt;00:00, 14471556.64it/s]",
            "_view_count": null,
            "_view_module_version": "1.5.0",
            "description_tooltip": null,
            "_model_module": "@jupyter-widgets/controls",
            "layout": "IPY_MODEL_92aab0bafd8c498f9f3c2a6669cd1711"
          }
        },
        "2f139c1f1c95425ca7cf34444551932b": {
          "model_module": "@jupyter-widgets/controls",
          "model_name": "ProgressStyleModel",
          "state": {
            "_view_name": "StyleView",
            "_model_name": "ProgressStyleModel",
            "description_width": "initial",
            "_view_module": "@jupyter-widgets/base",
            "_model_module_version": "1.5.0",
            "_view_count": null,
            "_view_module_version": "1.2.0",
            "bar_color": null,
            "_model_module": "@jupyter-widgets/controls"
          }
        },
        "7e6c571e1a194f29908ba5aac47cbbfa": {
          "model_module": "@jupyter-widgets/base",
          "model_name": "LayoutModel",
          "state": {
            "_view_name": "LayoutView",
            "grid_template_rows": null,
            "right": null,
            "justify_content": null,
            "_view_module": "@jupyter-widgets/base",
            "overflow": null,
            "_model_module_version": "1.2.0",
            "_view_count": null,
            "flex_flow": null,
            "width": null,
            "min_width": null,
            "border": null,
            "align_items": null,
            "bottom": null,
            "_model_module": "@jupyter-widgets/base",
            "top": null,
            "grid_column": null,
            "overflow_y": null,
            "overflow_x": null,
            "grid_auto_flow": null,
            "grid_area": null,
            "grid_template_columns": null,
            "flex": null,
            "_model_name": "LayoutModel",
            "justify_items": null,
            "grid_row": null,
            "max_height": null,
            "align_content": null,
            "visibility": null,
            "align_self": null,
            "height": null,
            "min_height": null,
            "padding": null,
            "grid_auto_rows": null,
            "grid_gap": null,
            "max_width": null,
            "order": null,
            "_view_module_version": "1.2.0",
            "grid_template_areas": null,
            "object_position": null,
            "object_fit": null,
            "grid_auto_columns": null,
            "margin": null,
            "display": null,
            "left": null
          }
        },
        "7ef2d635e0344527a0863f5c018f4bd2": {
          "model_module": "@jupyter-widgets/controls",
          "model_name": "DescriptionStyleModel",
          "state": {
            "_view_name": "StyleView",
            "_model_name": "DescriptionStyleModel",
            "description_width": "",
            "_view_module": "@jupyter-widgets/base",
            "_model_module_version": "1.5.0",
            "_view_count": null,
            "_view_module_version": "1.2.0",
            "_model_module": "@jupyter-widgets/controls"
          }
        },
        "92aab0bafd8c498f9f3c2a6669cd1711": {
          "model_module": "@jupyter-widgets/base",
          "model_name": "LayoutModel",
          "state": {
            "_view_name": "LayoutView",
            "grid_template_rows": null,
            "right": null,
            "justify_content": null,
            "_view_module": "@jupyter-widgets/base",
            "overflow": null,
            "_model_module_version": "1.2.0",
            "_view_count": null,
            "flex_flow": null,
            "width": null,
            "min_width": null,
            "border": null,
            "align_items": null,
            "bottom": null,
            "_model_module": "@jupyter-widgets/base",
            "top": null,
            "grid_column": null,
            "overflow_y": null,
            "overflow_x": null,
            "grid_auto_flow": null,
            "grid_area": null,
            "grid_template_columns": null,
            "flex": null,
            "_model_name": "LayoutModel",
            "justify_items": null,
            "grid_row": null,
            "max_height": null,
            "align_content": null,
            "visibility": null,
            "align_self": null,
            "height": null,
            "min_height": null,
            "padding": null,
            "grid_auto_rows": null,
            "grid_gap": null,
            "max_width": null,
            "order": null,
            "_view_module_version": "1.2.0",
            "grid_template_areas": null,
            "object_position": null,
            "object_fit": null,
            "grid_auto_columns": null,
            "margin": null,
            "display": null,
            "left": null
          }
        }
      }
    }
  },
  "cells": [
    {
      "cell_type": "markdown",
      "metadata": {
        "id": "view-in-github",
        "colab_type": "text"
      },
      "source": [
        "<a href=\"https://colab.research.google.com/github/gvnbleid/2020-GUM/blob/maciek-branch/MGU_Projekt_2.ipynb\" target=\"_parent\"><img src=\"https://colab.research.google.com/assets/colab-badge.svg\" alt=\"Open In Colab\"/></a>"
      ]
    },
    {
      "cell_type": "markdown",
      "metadata": {
        "id": "M9Hp_79xzNHL",
        "colab_type": "text"
      },
      "source": [
        "# Integracja z Google Drive"
      ]
    },
    {
      "cell_type": "code",
      "metadata": {
        "id": "Cic3sCC_zWw-",
        "colab_type": "code",
        "outputId": "e77af0bc-bb5d-4abd-dd02-7a0d94ef0a7f",
        "colab": {
          "base_uri": "https://localhost:8080/",
          "height": 122
        }
      },
      "source": [
        "from google.colab import drive\n",
        "drive.mount('/content/gdrive')\n",
        "BASE_DIR = '/content/gdrive/My Drive/DL2020/Projekt2/'"
      ],
      "execution_count": 0,
      "outputs": [
        {
          "output_type": "stream",
          "text": [
            "Go to this URL in a browser: https://accounts.google.com/o/oauth2/auth?client_id=947318989803-6bn6qk8qdgf4n4g3pfee6491hc0brc4i.apps.googleusercontent.com&redirect_uri=urn%3aietf%3awg%3aoauth%3a2.0%3aoob&response_type=code&scope=email%20https%3a%2f%2fwww.googleapis.com%2fauth%2fdocs.test%20https%3a%2f%2fwww.googleapis.com%2fauth%2fdrive%20https%3a%2f%2fwww.googleapis.com%2fauth%2fdrive.photos.readonly%20https%3a%2f%2fwww.googleapis.com%2fauth%2fpeopleapi.readonly\n",
            "\n",
            "Enter your authorization code:\n",
            "··········\n",
            "Mounted at /content/gdrive\n"
          ],
          "name": "stdout"
        }
      ]
    },
    {
      "cell_type": "markdown",
      "metadata": {
        "id": "qGdF3mbTx5wX",
        "colab_type": "text"
      },
      "source": [
        "# Sieć konwolucyjna"
      ]
    },
    {
      "cell_type": "markdown",
      "metadata": {
        "id": "TbzarbsUzYmX",
        "colab_type": "text"
      },
      "source": [
        "## Konfiguracja wstępna"
      ]
    },
    {
      "cell_type": "code",
      "metadata": {
        "id": "MCe_msV2M8CU",
        "colab_type": "code",
        "colab": {}
      },
      "source": [
        "%matplotlib inline"
      ],
      "execution_count": 0,
      "outputs": []
    },
    {
      "cell_type": "code",
      "metadata": {
        "id": "NqrpJX4iNbNb",
        "colab_type": "code",
        "colab": {}
      },
      "source": [
        "import torch\n",
        "import torchvision\n",
        "import torchvision.transforms as transforms\n",
        "import torch.nn as nn\n",
        "import torch.nn.functional as F\n",
        "import torchvision.models as models\n",
        "import time\n",
        "import copy"
      ],
      "execution_count": 0,
      "outputs": []
    },
    {
      "cell_type": "code",
      "metadata": {
        "id": "5lATCtCUUBO1",
        "colab_type": "code",
        "outputId": "19232a51-1b2c-40f1-cdeb-7f2235e8cef0",
        "colab": {
          "base_uri": "https://localhost:8080/",
          "height": 34
        }
      },
      "source": [
        "device = torch.device(\"cuda:0\" if torch.cuda.is_available() else \"cuda not available\")\n",
        "print(device)"
      ],
      "execution_count": 0,
      "outputs": [
        {
          "output_type": "stream",
          "text": [
            "cuda:0\n"
          ],
          "name": "stdout"
        }
      ]
    },
    {
      "cell_type": "code",
      "metadata": {
        "id": "SxVjlRlJSKMn",
        "colab_type": "code",
        "colab": {}
      },
      "source": [
        "class AddGaussianNoise(object):\n",
        "    def __init__(self, mean=0., std=1.):\n",
        "        self.std = std\n",
        "        self.mean = mean\n",
        "        \n",
        "    def __call__(self, tensor):\n",
        "        return tensor + torch.randn(tensor.size()) * self.std + self.mean\n",
        "    \n",
        "    def __repr__(self):\n",
        "        return self.__class__.__name__ + '(mean={0}, std={1})'.format(self.mean, self.std)"
      ],
      "execution_count": 0,
      "outputs": []
    },
    {
      "cell_type": "markdown",
      "metadata": {
        "id": "PhcF_PqpygER",
        "colab_type": "text"
      },
      "source": [
        "## Konfiguracja sieci"
      ]
    },
    {
      "cell_type": "code",
      "metadata": {
        "id": "ADQ3IqB7XDGV",
        "colab_type": "code",
        "colab": {},
        "cellView": "form"
      },
      "source": [
        "#@title Wybór konfiguracji { run: \"auto\" }\n",
        "\n",
        "config = \"Wzbogacony LeNet-5\" #@param [\"Adventures in Machine Learning\", \"PyTorch tutorial\", \"Wzbogacony LeNet-5\", \"Wlasna konfiguracja 1\", \"Pretrained VGG16\"]"
      ],
      "execution_count": 0,
      "outputs": []
    },
    {
      "cell_type": "code",
      "metadata": {
        "id": "HMipY73C0G_K",
        "colab_type": "code",
        "outputId": "dc2b5cad-fc5d-4510-96ff-bebfc84113ac",
        "colab": {
          "base_uri": "https://localhost:8080/",
          "height": 425
        }
      },
      "source": [
        "last_epoch = 0\n",
        "last_loss = None\n",
        "\n",
        "class Net(nn.Module):\n",
        "    if config == \"PyTorch tutorial\":\n",
        "        def __init__(self):\n",
        "            super(Net, self).__init__()\n",
        "            self.conv1 = nn.Conv2d(3, 6, 5)\n",
        "            self.pool = nn.MaxPool2d(2, 2)\n",
        "            self.conv2 = nn.Conv2d(6, 16, 5)\n",
        "            self.fc1 = nn.Linear(16 * 5 * 5, 120)\n",
        "            self.fc2 = nn.Linear(120, 84)\n",
        "            self.fc3 = nn.Linear(84, 10)\n",
        "\n",
        "        def forward(self, x):\n",
        "            x = self.pool(F.relu(self.conv1(x)))\n",
        "            x = self.pool(F.relu(self.conv2(x)))\n",
        "            x = x.view(-1, 16 * 5 * 5)\n",
        "            x = F.relu(self.fc1(x))\n",
        "            x = F.relu(self.fc2(x))\n",
        "            x = self.fc3(x)\n",
        "            return x\n",
        "\n",
        "    elif config == \"Adventures in Machine Learning\":\n",
        "        def __init__(self):\n",
        "            super(Net, self).__init__()\n",
        "            self.conv1 = nn.Conv2d(3, 32, 5)\n",
        "            self.pool = nn.MaxPool2d(2, 2)\n",
        "            self.conv2 = nn.Conv2d(32, 64, 5)\n",
        "            self.fc1 = nn.Linear(64 * 5 * 5, 1000)\n",
        "            self.fc2 = nn.Linear(1000, 10)\n",
        "\n",
        "        def forward(self, x):\n",
        "            x = self.pool(F.relu(self.conv1(x)))\n",
        "            x = self.pool(F.relu(self.conv2(x)))\n",
        "            x = x.view(-1, 64 * 5 * 5)\n",
        "            x = F.relu(self.fc1(x))\n",
        "            x = F.softmax(self.fc2(x), dim=0)\n",
        "            return x\n",
        "\n",
        "    elif config == \"Wzbogacony LeNet-5\":\n",
        "        def __init__(self):\n",
        "            super(Net, self).__init__()\n",
        "\n",
        "            self.conv1 = nn.Conv2d(in_channels = 3, out_channels = 8, stride = 1, kernel_size = 3, padding = 1)\n",
        "            self.relu1 = nn.ReLU()\n",
        "            self.conv2 = nn.Conv2d(in_channels = 8, out_channels = 16, stride = 1, kernel_size = 3, padding = 1)\n",
        "            self.relu2 = nn.ReLU()\n",
        "            self.maxpool1 = nn.MaxPool2d(kernel_size = 2, stride = 2)\n",
        "            self.conv3 = nn.Conv2d(in_channels = 16, out_channels = 32, stride = 1, kernel_size = 3, padding = 0)\n",
        "            self.relu3 = nn.ReLU()\n",
        "            self.maxpool2 = nn.MaxPool2d(kernel_size = 2, stride = 2)\n",
        "            self.linear1 = nn.Linear(7 * 7 * 32, 300)\n",
        "            self.relu4 = nn.ReLU()\n",
        "            self.drop1 = nn.Dropout(p = 0.5)\n",
        "            self.linear2 = nn.Linear(300, 10)\n",
        "\n",
        "            self.net = nn.Sequential(self.conv1, self.relu1, self.conv2, self.relu2,\n",
        "                                 self.maxpool1, self.conv3, self.relu3, self.maxpool2)\n",
        "                                             \n",
        "        def forward(self, x):\n",
        "            x = self.net(x)\n",
        "            x = x.view(-1, x.shape[0] , 7 * 7 * 32)\n",
        "            x = self.linear1(x)\n",
        "            x = self.relu4(x)\n",
        "            x = self.drop1(x)\n",
        "            x = self.linear2(x)\n",
        "            return x\n",
        "\n",
        "    elif config == \"Wlasna konfiguracja 1\":\n",
        "        def __init__(self):\n",
        "            super(Net, self).__init__()\n",
        "\n",
        "            self.conv1 = nn.Conv2d(in_channels = 3, out_channels = 16, stride = 1, kernel_size = 3, padding = 1)\n",
        "            self.batchnorm1 = nn.BatchNorm2d(num_features = 16)\n",
        "            self.relu1 = nn.ReLU()\n",
        "            self.conv2 = nn.Conv2d(in_channels = 16, out_channels = 32, stride = 1, kernel_size = 3, padding = 1)\n",
        "            self.batchnorm2 = nn.BatchNorm2d(num_features = 32)\n",
        "            self.relu2 = nn.ReLU()\n",
        "            self.maxpool2 = nn.MaxPool2d(kernel_size = 2, stride = 2)\n",
        "            self.conv3 = nn.Conv2d(in_channels = 32, out_channels = 64, stride = 1, kernel_size = 3, padding = 0)\n",
        "            self.batchnorm3 = nn.BatchNorm2d(num_features = 64)\n",
        "            self.relu3 = nn.ReLU()\n",
        "            self.maxpool3 = nn.MaxPool2d(kernel_size = 2, stride = 2)\n",
        "            self.linear1 = nn.Linear(7 * 7 * 64, 300)\n",
        "            self.relu4 = nn.ReLU()\n",
        "            self.drop1 = nn.Dropout(p = 0.5)\n",
        "            self.linear2 = nn.Linear(300, 10)\n",
        "            self.net = nn.Sequential(self.conv1, self.batchnorm1, self.relu1, self.conv2, self.batchnorm2, self.relu2,\n",
        "                                 self.maxpool2, self.conv3, self.batchnorm3, self.relu3, self.maxpool3)\n",
        "                                             \n",
        "        def forward(self, x):\n",
        "            x = self.net(x)\n",
        "            x = x.view(-1, x.shape[0] , 7 * 7 * 64)\n",
        "            x = self.linear1(x)\n",
        "            x = self.relu4(x)\n",
        "            x = self.drop1(x)\n",
        "            x = self.linear2(x)\n",
        "            return x\n",
        "\n",
        "net = None\n",
        "input_size = 32\n",
        "\n",
        "if config == \"Pretrained VGG16\":\n",
        "    def set_parameter_requires_grad(model):\n",
        "        for param in model.parameters():\n",
        "            param.requires_grad = False\n",
        "\n",
        "    net = models.vgg16_bn(pretrained=True)\n",
        "    set_parameter_requires_grad(net)\n",
        "    num_ftrs = net.classifier[6].in_features\n",
        "    net.classifier[6] = nn.Linear(num_ftrs, 10)\n",
        "    net = net.to(device)\n",
        "    input_size = 224\n",
        "else:\n",
        "    net = Net().to(device)\n",
        "\n",
        "net"
      ],
      "execution_count": 0,
      "outputs": [
        {
          "output_type": "execute_result",
          "data": {
            "text/plain": [
              "Net(\n",
              "  (conv1): Conv2d(3, 8, kernel_size=(3, 3), stride=(1, 1), padding=(1, 1))\n",
              "  (relu1): ReLU()\n",
              "  (conv2): Conv2d(8, 16, kernel_size=(3, 3), stride=(1, 1), padding=(1, 1))\n",
              "  (relu2): ReLU()\n",
              "  (maxpool1): MaxPool2d(kernel_size=2, stride=2, padding=0, dilation=1, ceil_mode=False)\n",
              "  (conv3): Conv2d(16, 32, kernel_size=(3, 3), stride=(1, 1))\n",
              "  (relu3): ReLU()\n",
              "  (maxpool2): MaxPool2d(kernel_size=2, stride=2, padding=0, dilation=1, ceil_mode=False)\n",
              "  (linear1): Linear(in_features=1568, out_features=300, bias=True)\n",
              "  (relu4): ReLU()\n",
              "  (drop1): Dropout(p=0.5, inplace=False)\n",
              "  (linear2): Linear(in_features=300, out_features=10, bias=True)\n",
              "  (net): Sequential(\n",
              "    (0): Conv2d(3, 8, kernel_size=(3, 3), stride=(1, 1), padding=(1, 1))\n",
              "    (1): ReLU()\n",
              "    (2): Conv2d(8, 16, kernel_size=(3, 3), stride=(1, 1), padding=(1, 1))\n",
              "    (3): ReLU()\n",
              "    (4): MaxPool2d(kernel_size=2, stride=2, padding=0, dilation=1, ceil_mode=False)\n",
              "    (5): Conv2d(16, 32, kernel_size=(3, 3), stride=(1, 1))\n",
              "    (6): ReLU()\n",
              "    (7): MaxPool2d(kernel_size=2, stride=2, padding=0, dilation=1, ceil_mode=False)\n",
              "  )\n",
              ")"
            ]
          },
          "metadata": {
            "tags": []
          },
          "execution_count": 10
        }
      ]
    },
    {
      "cell_type": "code",
      "metadata": {
        "id": "FbRjtB1vUwW0",
        "colab_type": "code",
        "colab": {}
      },
      "source": [
        "import torch.optim as optim\n",
        "\n",
        "criterion = nn.CrossEntropyLoss()\n",
        "optimizer = optim.SGD(net.parameters(), lr=0.001, momentum=0.9)"
      ],
      "execution_count": 0,
      "outputs": []
    },
    {
      "cell_type": "markdown",
      "metadata": {
        "id": "-5dtraYJ9wTC",
        "colab_type": "text"
      },
      "source": [
        "### Wczytanie stanu sieci (opcjonalne)"
      ]
    },
    {
      "cell_type": "code",
      "metadata": {
        "id": "cEhQaYFv96A8",
        "colab_type": "code",
        "colab": {}
      },
      "source": [
        "load_state = False #@param {type: \"boolean\"}\n",
        "path = \"\" #@param {type: \"string\"}\n",
        "\n",
        "if load_state:\n",
        "    checkpoint = torch.load(path)\n",
        "    net.load_state_dict(checkpoint['model_state_dict'])\n",
        "    optimizer.load_state_dict(checkpoint['optimizer_state_dict'])\n",
        "    criterion.load_state_dict(checkpoint['criterion_state_dict'])\n",
        "    last_epoch = checkpoint['epoch']\n",
        "    last_loss = checkpoint['loss']\n",
        "\n",
        "    model.eval()"
      ],
      "execution_count": 0,
      "outputs": []
    },
    {
      "cell_type": "markdown",
      "metadata": {
        "id": "2TspiX6PyB9N",
        "colab_type": "text"
      },
      "source": [
        "## Ustawienia augmentacji danych"
      ]
    },
    {
      "cell_type": "code",
      "metadata": {
        "id": "kB33jB3zhpTy",
        "colab_type": "code",
        "cellView": "both",
        "colab": {}
      },
      "source": [
        "#@title Metody augmentacji { run: \"auto\" }\n",
        "translation_checkbox = False #@param {type:\"boolean\"}\n",
        "flip_checkbox = False #@param {type:\"boolean\"}\n",
        "rotation_checkbox = False #@param {type:\"boolean\"}\n",
        "noise_checkbox = False #@param {type:\"boolean\"}"
      ],
      "execution_count": 0,
      "outputs": []
    },
    {
      "cell_type": "code",
      "metadata": {
        "id": "mI6JH0NqNdMy",
        "colab_type": "code",
        "colab": {}
      },
      "source": [
        "transforms_array = []\n",
        "\n",
        "transforms_array.append(transforms.RandomResizedCrop(input_size))\n",
        "\n",
        "if translation_checkbox:\n",
        "    transforms_array.append(transforms.RandomAffine(0, (0.2, 0.2)))\n",
        "if flip_checkbox:\n",
        "    transforms_array.append(transforms.RandomHorizontalFlip())\n",
        "if rotation_checkbox:\n",
        "    transforms_array.append(transforms.RandomRotation(30))\n",
        "\n",
        "transforms_array.append(transforms.ToTensor())\n",
        "transforms_array.append(transforms.Normalize(mean=[0.485, 0.456, 0.406],\n",
        "                                             std=[0.229, 0.224, 0.225]))\n",
        "\n",
        "if noise_checkbox:\n",
        "    transforms_array.append(AddGaussianNoise(0., 0.2))"
      ],
      "execution_count": 0,
      "outputs": []
    },
    {
      "cell_type": "markdown",
      "metadata": {
        "id": "fgDB0MJEyLUv",
        "colab_type": "text"
      },
      "source": [
        "## Wczytanie danych"
      ]
    },
    {
      "cell_type": "code",
      "metadata": {
        "id": "23wbllWBNfEX",
        "colab_type": "code",
        "outputId": "e01a1813-630f-49b8-d096-84ffd34511cb",
        "colab": {
          "base_uri": "https://localhost:8080/",
          "height": 100,
          "referenced_widgets": [
            "87b306d01e6a4b5da4ca875ae120077a",
            "88d2132a043d4f838d029b09a1b7e2c1",
            "573e6bd15dbd4854a191581421256d50",
            "8a9492e39db44594a9852644e1ab098f",
            "2f139c1f1c95425ca7cf34444551932b",
            "7e6c571e1a194f29908ba5aac47cbbfa",
            "7ef2d635e0344527a0863f5c018f4bd2",
            "92aab0bafd8c498f9f3c2a6669cd1711"
          ]
        }
      },
      "source": [
        "transform = transforms.Compose(transforms_array)\n",
        "test_transform = transforms.Compose([\n",
        "                                     transforms.Resize(input_size),\n",
        "                                     transforms.ToTensor(),\n",
        "                                     transforms.Normalize(\n",
        "                                         [0.485, 0.456, 0.406],\n",
        "                                         [0.229, 0.224, 0.225]\n",
        "                                     )\n",
        "])\n",
        "\n",
        "trainset = torchvision.datasets.CIFAR10(root='./data', train=True,\n",
        "                                        download=True, transform=transform)\n",
        "trainloader = torch.utils.data.DataLoader(trainset, batch_size=10,\n",
        "                                          shuffle=True, num_workers=2)\n",
        "\n",
        "testset = torchvision.datasets.CIFAR10(root='./data', train=False,\n",
        "                                       download=True, transform=transform)\n",
        "testloader = torch.utils.data.DataLoader(testset, batch_size=10,\n",
        "                                         shuffle=False, num_workers=2)\n",
        "\n",
        "classes = ('plane', 'car', 'bird', 'cat',\n",
        "           'deer', 'dog', 'frog', 'horse', 'ship', 'truck')"
      ],
      "execution_count": 0,
      "outputs": [
        {
          "output_type": "stream",
          "text": [
            "Downloading https://www.cs.toronto.edu/~kriz/cifar-10-python.tar.gz to ./data/cifar-10-python.tar.gz\n"
          ],
          "name": "stdout"
        },
        {
          "output_type": "display_data",
          "data": {
            "application/vnd.jupyter.widget-view+json": {
              "model_id": "87b306d01e6a4b5da4ca875ae120077a",
              "version_minor": 0,
              "version_major": 2
            },
            "text/plain": [
              "HBox(children=(IntProgress(value=1, bar_style='info', max=1), HTML(value='')))"
            ]
          },
          "metadata": {
            "tags": []
          }
        },
        {
          "output_type": "stream",
          "text": [
            "Extracting ./data/cifar-10-python.tar.gz to ./data\n",
            "Files already downloaded and verified\n"
          ],
          "name": "stdout"
        }
      ]
    },
    {
      "cell_type": "code",
      "metadata": {
        "id": "kYmSq26eShKe",
        "colab_type": "code",
        "outputId": "cf369d70-b2e4-4130-bbb4-561a9ff5ca50",
        "colab": {
          "base_uri": "https://localhost:8080/",
          "height": 154
        }
      },
      "source": [
        "import matplotlib.pyplot as plt\n",
        "import numpy as np\n",
        "\n",
        "# functions to show an image\n",
        "\n",
        "\n",
        "def imshow(img):\n",
        "    img = img / 2 + 0.5     # unnormalize\n",
        "    npimg = img.numpy()\n",
        "    plt.imshow(np.transpose(npimg, (1, 2, 0)))\n",
        "\n",
        "\n",
        "# get some random training images\n",
        "dataiter = iter(trainloader)\n",
        "images, labels = dataiter.next()\n",
        "\n",
        "# show images\n",
        "imshow(torchvision.utils.make_grid(images))\n",
        "# print labels\n",
        "print(' '.join('%5s' % classes[labels[j]] for j in range(10)))"
      ],
      "execution_count": 0,
      "outputs": [
        {
          "output_type": "stream",
          "text": [
            "truck   dog  ship truck   car truck  frog  ship truck  ship\n"
          ],
          "name": "stdout"
        },
        {
          "output_type": "display_data",
          "data": {
            "image/png": "[encoded data removed]",
            "text/plain": [
              "<Figure size 432x288 with 1 Axes>"
            ]
          },
          "metadata": {
            "tags": [],
            "needs_background": "light"
          }
        }
      ]
    },
    {
      "cell_type": "markdown",
      "metadata": {
        "id": "KoUP71A0SV81",
        "colab_type": "text"
      },
      "source": [
        "## Uczenie sieci - funkcja"
      ]
    },
    {
      "cell_type": "code",
      "metadata": {
        "id": "glx9mQvCSd6l",
        "colab_type": "code",
        "colab": {}
      },
      "source": [
        "def train_net(net, dataloaders, criterion, optimizer, nb_epoch, last_epoch):\n",
        "    since = time.time()\n",
        "\n",
        "    test_acc_array = []\n",
        "    train_acc_array = []\n",
        "    best_net = copy.deepcopy(net.state_dict())\n",
        "    best_acc = 0.0\n",
        "\n",
        "    for epoch in range(nb_epoch):  # loop over the dataset multiple times\n",
        "        last_epoch = last_epoch + 1\n",
        "\n",
        "        for phase in ['train', 'test']:\n",
        "            if phase == 'train':\n",
        "                net.train()\n",
        "                dataloader = dataloaders[0]\n",
        "            else:\n",
        "                net.eval()\n",
        "                dataloader = dataloaders[1]\n",
        "        \n",
        "            running_loss = 0.0\n",
        "            running_correct = 0\n",
        "\n",
        "            for inputs, labels in dataloader:\n",
        "                inputs, labels = inputs.to(device), labels.to(device)\n",
        "                \n",
        "                # zero the parameter gradients\n",
        "                optimizer.zero_grad()\n",
        "\n",
        "                with torch.set_grad_enabled(phase == 'train'):\n",
        "                    # forward + backward + optimize\n",
        "                    outputs = net(inputs)\n",
        "                    loss = criterion(outputs, labels)\n",
        "\n",
        "                    _, prediction = torch.max(outputs, 1)\n",
        "                    \n",
        "                    if phase == 'train':\n",
        "                        loss.backward()\n",
        "                        optimizer.step()\n",
        "\n",
        "                # print statistics\n",
        "                running_loss += loss.item() * inputs.size(0)\n",
        "                running_correct += torch.sum(prediction == labels.data)\n",
        "\n",
        "            epoch_loss = running_loss / len(dataloader.dataset)\n",
        "            epoch_acc = running_correct.double() / len(dataloader.dataset)\n",
        "\n",
        "            print('Epoch %s/%s - %s Loss: %.3f Acc: %.3f' %\n",
        "                (epoch + 1, nb_epoch, phase, epoch_loss, epoch_acc))\n",
        "            \n",
        "            if phase == 'test' and epoch_acc > best_acc:\n",
        "                best_acc = epoch_acc\n",
        "                best_net = copy.deepcopy(net.state_dict())\n",
        "            if phase == 'test':\n",
        "                test_acc_array.append(epoch_acc)\n",
        "            else:\n",
        "                train_acc_array.append(epoch_acc)\n",
        "    \n",
        "    training_time = time.time() - since\n",
        "    print('Finished Training in %.0fm %.0fs' % (training_time // 60, training_time % 60))\n",
        "    print('Best test Accuracy: %.3f' % (best_acc))\n",
        "\n",
        "    net.load_state_dict(best_net)\n",
        "    return net, test_acc_array, train_acc_array\n",
        "\n",
        "net, test_acc_array, train_acc_array = train_net(net, [trainloader, testloader], criterion, optimizer, nb_epoch, last_epoch)"
      ],
      "execution_count": 0,
      "outputs": []
    },
    {
      "cell_type": "markdown",
      "metadata": {
        "id": "DFMSpV6Jywf_",
        "colab_type": "text"
      },
      "source": [
        "## Uczenie sieci (kod Maćka)"
      ]
    },
    {
      "cell_type": "code",
      "metadata": {
        "id": "QlEUIGAAU096",
        "colab_type": "code",
        "colab": {}
      },
      "source": [
        "nb_epoch = 10 #@param {type: \"integer\"}\n",
        "loss_array = []\n",
        "\n",
        "for epoch in range(nb_epoch):  # loop over the dataset multiple times\n",
        "\n",
        "    last_epoch = last_epoch + 1\n",
        "    running_loss = 0.0\n",
        "    for i, data in enumerate(trainloader, 0):\n",
        "        # get the inputs\n",
        "        inputs, labels = data\n",
        "        inputs, labels = inputs.to(device), labels.to(device)\n",
        "        net.train()\n",
        "        # zero the parameter gradients\n",
        "        optimizer.zero_grad()\n",
        "\n",
        "        # forward + backward + optimize\n",
        "        outputs = net(inputs)\n",
        "        loss = criterion(outputs, labels)\n",
        "        loss.backward()\n",
        "        optimizer.step()\n",
        "\n",
        "        # print statistics\n",
        "        running_loss += loss.item()\n",
        "        if i % 2000 == 1999:    # print every 2000 mini-batches\n",
        "            last_loss = running_loss / 2000\n",
        "            print('[%d, %5d] loss: %.3f' %\n",
        "                (last_epoch, i + 1, last_loss))\n",
        "            \n",
        "            loss_array.append(last_loss)\n",
        "\n",
        "            running_loss = 0.0\n",
        "print('Finished Training')"
      ],
      "execution_count": 0,
      "outputs": []
    },
    {
      "cell_type": "markdown",
      "metadata": {
        "id": "lr82fiblseX7",
        "colab_type": "text"
      },
      "source": [
        "## Uczenie sieci (kod Jacka)"
      ]
    },
    {
      "cell_type": "code",
      "metadata": {
        "id": "Gksdly9nr4wK",
        "colab_type": "code",
        "outputId": "47df479d-78b8-4524-fa37-7ef5634a7ca5",
        "colab": {
          "base_uri": "https://localhost:8080/",
          "height": 238
        }
      },
      "source": [
        "nb_epoch = 6 #@param {type: \"integer\"}\n",
        "loss_array = []\n",
        "\n",
        "optimizer = optim.Adam(net.parameters(), lr = 0.001, weight_decay=0)\n",
        "\n",
        "for epoch in range(nb_epoch):  # loop over the dataset multiple times\n",
        "\n",
        "    last_epoch = last_epoch + 1\n",
        "    running_loss = 0.0\n",
        "\n",
        "    for i, (img, label) in enumerate(trainloader):\n",
        "        img = img.to(device)\n",
        "        label = label.to(device)\n",
        "        net.train()\n",
        "        optimizer.zero_grad()\n",
        "        prediction = net(img)\n",
        "        loss = criterion(prediction[0], label)\n",
        "        loss.backward()\n",
        "        optimizer.step()\n",
        "\n",
        "        # print statistics\n",
        "        running_loss += loss.item()\n",
        "        if i % 2000 == 1999:    # print every 2000 mini-batches\n",
        "            last_loss = running_loss / 2000\n",
        "            print('[%d, %5d] loss: %.3f' %\n",
        "                (last_epoch, i + 1, last_loss))\n",
        "            \n",
        "            loss_array.append(last_loss)\n",
        "\n",
        "            running_loss = 0.0\n",
        "print('Finished Training')"
      ],
      "execution_count": 0,
      "outputs": [
        {
          "output_type": "stream",
          "text": [
            "[11,  2000] loss: 0.630\n",
            "[11,  4000] loss: 0.657\n",
            "[12,  2000] loss: 0.619\n",
            "[12,  4000] loss: 0.630\n",
            "[13,  2000] loss: 0.588\n",
            "[13,  4000] loss: 0.611\n",
            "[14,  2000] loss: 0.554\n",
            "[14,  4000] loss: 0.593\n",
            "[15,  2000] loss: 0.541\n",
            "[15,  4000] loss: 0.590\n",
            "[16,  2000] loss: 0.533\n",
            "[16,  4000] loss: 0.555\n",
            "Finished Training\n"
          ],
          "name": "stdout"
        }
      ]
    },
    {
      "cell_type": "markdown",
      "metadata": {
        "id": "M1Zt3tB75fcR",
        "colab_type": "text"
      },
      "source": [
        "### Zapis stanu modelu (opcjonalne)"
      ]
    },
    {
      "cell_type": "code",
      "metadata": {
        "id": "QMj0iZ3oacsW",
        "colab_type": "code",
        "colab": {}
      },
      "source": [
        "from datetime import datetime\n",
        "\n",
        "def append_timestamp(path):\n",
        "    now = datetime.now()\n",
        "    current_time = now.strftime(\"%y.%m.%d_%H:%M:%S\")\n",
        "    return path.replace(\".\", f\"_{current_time}.\")"
      ],
      "execution_count": 0,
      "outputs": []
    },
    {
      "cell_type": "code",
      "metadata": {
        "id": "P3IHZ3gd5joY",
        "colab_type": "code",
        "colab": {}
      },
      "source": [
        "save_state = True #@param {type: \"boolean\"}\n",
        "path = \"lenet.pt\" #@param {type: \"string\"}\n",
        "use_timestamp = True #@param {type: \"boolean\"}\n",
        "\n",
        "if save_state:\n",
        "    if use_timestamp:\n",
        "        path = append_timestamp(path)\n",
        "    torch.save({\n",
        "                'epoch': last_epoch,\n",
        "                'model_state_dict': net.state_dict(),\n",
        "                'optimizer_state_dict': optimizer.state_dict(),\n",
        "                'criterion_state_dict': criterion.state_dict(),\n",
        "                'loss': last_loss\n",
        "                }, BASE_DIR + path)"
      ],
      "execution_count": 0,
      "outputs": []
    },
    {
      "cell_type": "markdown",
      "metadata": {
        "id": "wlBbKXjWzA7U",
        "colab_type": "text"
      },
      "source": [
        "## Wyniki (kod Maćka)"
      ]
    },
    {
      "cell_type": "code",
      "metadata": {
        "id": "Ut2ufVTuVOFH",
        "colab_type": "code",
        "colab": {}
      },
      "source": [
        "correct = 0\n",
        "total = 0\n",
        "with torch.no_grad():\n",
        "    for data in testloader:\n",
        "        images, labels = data\n",
        "        images, labels = images.to(device), labels.to(device)\n",
        "        outputs = net(images)\n",
        "        _, predicted = torch.max(outputs.data, 1)\n",
        "        total += labels.size(0)\n",
        "        correct += (predicted == labels).sum().item()\n",
        "\n",
        "accuracy = correct / total\n",
        "print('Accuracy of the network on the 10000 test images: %d %%' % (\n",
        "    100 * accuracy))"
      ],
      "execution_count": 0,
      "outputs": []
    },
    {
      "cell_type": "code",
      "metadata": {
        "id": "AOYCGXPAVRMZ",
        "colab_type": "code",
        "colab": {}
      },
      "source": [
        "class_correct = list(0. for i in range(10))\n",
        "class_total = list(0. for i in range(10))\n",
        "with torch.no_grad():\n",
        "    for data in testloader:\n",
        "        images, labels = data\n",
        "        images, labels = images.to(device), labels.to(device)\n",
        "        outputs = net(images)\n",
        "        _, predicted = torch.max(outputs, 1)\n",
        "        c = (predicted == labels).squeeze()\n",
        "        for i in range(10):\n",
        "            label = labels[i]\n",
        "            class_correct[label] += c[i].item()\n",
        "            class_total[label] += 1\n",
        "\n",
        "accuracy_per_class = []\n",
        "\n",
        "for i in range(10):\n",
        "    accuracy_per_class.append({\n",
        "                               'class': classes[i], \n",
        "                               'accuracy': class_correct[i] / class_total[i]\n",
        "                               })\n",
        "    print('Accuracy of %5s : %2d %%' % (\n",
        "        classes[i], 100 * class_correct[i] / class_total[i]))"
      ],
      "execution_count": 0,
      "outputs": []
    },
    {
      "cell_type": "markdown",
      "metadata": {
        "id": "XVzNqlh92IL0",
        "colab_type": "text"
      },
      "source": [
        "## Wyniki (kod Jacka)"
      ]
    },
    {
      "cell_type": "code",
      "metadata": {
        "id": "FfEaFOtj2mZO",
        "colab_type": "code",
        "colab": {}
      },
      "source": [
        "def update_classify_table(classify_table, predictions, labels):\n",
        "        for lab, pred in zip(labels, predictions):\n",
        "            classify_table[lab, pred] += 1"
      ],
      "execution_count": 0,
      "outputs": []
    },
    {
      "cell_type": "code",
      "metadata": {
        "id": "NgAqTD-t0sts",
        "colab_type": "code",
        "outputId": "8cdfe056-29f0-4d02-f787-78274061c3a0",
        "colab": {
          "base_uri": "https://localhost:8080/",
          "height": 34
        }
      },
      "source": [
        "correct = 0\n",
        "total = 0\n",
        "loss = 0.0\n",
        "with torch.no_grad():\n",
        "    net.eval()\n",
        "    classify_table = np.zeros((10,10))\n",
        "    for i, (img, label) in enumerate(testloader):\n",
        "        img = img.to(device)\n",
        "        label = label.to(device)\n",
        "        prediction = net(img)\n",
        "        loss += criterion(prediction[0], label)\n",
        "        _ , prediction = torch.max(prediction[0].data, 1)\n",
        "        update_classify_table(classify_table, prediction, label.data)\n",
        "        correct += torch.sum(prediction == label.data)\n",
        "\n",
        "accuracy = correct.cpu().numpy() / 10000\n",
        "print('Accuracy of the network on the 10000 test images: %d %%' % (\n",
        "    100 * accuracy))"
      ],
      "execution_count": 0,
      "outputs": [
        {
          "output_type": "stream",
          "text": [
            "Accuracy of the network on the 10000 test images: 71 %\n"
          ],
          "name": "stdout"
        }
      ]
    },
    {
      "cell_type": "markdown",
      "metadata": {
        "id": "HaHcNGxUNxyu",
        "colab_type": "text"
      },
      "source": [
        "### Zapis wyników (opcjonalne)"
      ]
    },
    {
      "cell_type": "code",
      "metadata": {
        "id": "9XSrgc_SN3fr",
        "colab_type": "code",
        "colab": {}
      },
      "source": [
        "save_results_state = True #@param {type: \"boolean\"}\n",
        "use_timestamp = True #@param {type: \"boolean\"}\n",
        "path = \"pytorch_tutorial.json\" #@param {type: \"string\"}\n",
        "\n",
        "from datetime import datetime\n",
        "import json\n",
        "import codecs\n",
        "\n",
        "if save_results_state:\n",
        "    if use_timestamp:\n",
        "        path = append_timestamp(path)\n",
        "\n",
        "    json.dump(dict(accuracy=accuracy, accuracy_per_class=accuracy_per_class),\n",
        "              codecs.open(BASE_DIR + path, 'w', encoding='utf-8'))"
      ],
      "execution_count": 0,
      "outputs": []
    },
    {
      "cell_type": "markdown",
      "metadata": {
        "id": "lZ_bbCQBY4ML",
        "colab_type": "text"
      },
      "source": [
        "## Wykresy"
      ]
    },
    {
      "cell_type": "code",
      "metadata": {
        "id": "9OsDHNGBY5P2",
        "colab_type": "code",
        "outputId": "d85e6cdf-1a8b-47ee-fdec-eb9d82d27d04",
        "colab": {
          "base_uri": "https://localhost:8080/",
          "height": 282
        }
      },
      "source": [
        "import matplotlib.pyplot as plt\n",
        "\n",
        "plt.plot(loss_array)"
      ],
      "execution_count": 0,
      "outputs": [
        {
          "output_type": "execute_result",
          "data": {
            "text/plain": [
              "[<matplotlib.lines.Line2D at 0x7fb0b0a61208>]"
            ]
          },
          "metadata": {
            "tags": []
          },
          "execution_count": 15
        },
        {
          "output_type": "display_data",
          "data": {
            "image/png": "[encoded data removed]",
            "text/plain": [
              "<Figure size 432x288 with 1 Axes>"
            ]
          },
          "metadata": {
            "tags": [],
            "needs_background": "light"
          }
        }
      ]
    },
    {
      "cell_type": "code",
      "metadata": {
        "id": "A9N0b7Eq3MN-",
        "colab_type": "code",
        "colab": {}
      },
      "source": [
        "import copy\n",
        "\n",
        "def visualise_accuracy_by_class(classify_table):\n",
        "    indices = np.arange(10)\n",
        "    results = [ classify_table[i,i] / np.sum(classify_table[i, :]) for i in range(10)]\n",
        "    plt.bar(indices, results, color = ['#7e57c2', '#ffc400'])\n",
        "    plt.title(\"Frakcja poprawnych klasyfikacji dla poszczególnych klas\")\n",
        "    plt.xlabel('Klasa')\n",
        "    plt.ylabel('Frakcja poprawnych klasyfikacji')\n",
        "    plt.xticks(indices)\n",
        "    plt.show()\n",
        "    \n",
        "def visualise_errors_by_class(classify_table):\n",
        "    indices = np.arange(10)\n",
        "    p = list()\n",
        "    table = copy.deepcopy(classify_table)\n",
        "    table[np.argmax(table, 0), np.argmax(table, 1)] = 0\n",
        "    p.append(plt.bar(indices, table[:, 0]))\n",
        "    for i in range(1, 10):\n",
        "        p.append(plt.bar(indices, table[:, i], bottom = np.sum(table[:, 0:i], 1)))\n",
        "    plt.title(\"Błędy klasyfikacji\")\n",
        "    plt.xticks(indices)\n",
        "    plt.xlabel(\"Poprawna klasa\")\n",
        "    plt.ylabel(\"Liczba błędnych klasyfikacji\")\n",
        "    plt.legend(list(range(0,10)), title = \"Klasa zwracana przez sieć\", bbox_to_anchor=(1.05, 1), loc=2, borderaxespad=0.)\n",
        "    plt.show()\n",
        "\n",
        "def visualise_errors_for_class(classify_table, class_index):\n",
        "    indices = np.arange(10)\n",
        "    p = list()\n",
        "    table = copy.deepcopy(classify_table)\n",
        "    table[np.argmax(table, 0), np.argmax(table, 1)] = 0\n",
        "    plt.bar(indices, table[:, class_index])\n",
        "    plt.xticks(indices)\n",
        "    plt.title(\"Liczba błędnych klasyfikacji dla klasy: {}\".format(class_index))\n",
        "    plt.xlabel(\"Klasa zwracana przez sieć\")\n",
        "    plt.ylabel(\"Liczba błędnych klasyfikacji\")\n",
        "    plt.show()"
      ],
      "execution_count": 0,
      "outputs": []
    },
    {
      "cell_type": "code",
      "metadata": {
        "id": "FLHPRXQg3Sxs",
        "colab_type": "code",
        "outputId": "a01d37ca-d884-4272-c800-e3db5161c21a",
        "colab": {
          "base_uri": "https://localhost:8080/",
          "height": 295
        }
      },
      "source": [
        "visualise_accuracy_by_class(classify_table)"
      ],
      "execution_count": 0,
      "outputs": [
        {
          "output_type": "display_data",
          "data": {
            "image/png": "[encoded data removed]",
            "text/plain": [
              "<Figure size 432x288 with 1 Axes>"
            ]
          },
          "metadata": {
            "tags": [],
            "needs_background": "light"
          }
        }
      ]
    },
    {
      "cell_type": "code",
      "metadata": {
        "id": "LChXagfO3vl9",
        "colab_type": "code",
        "outputId": "40f4bef3-6c58-4ade-e8c0-3e8c8fb166b2",
        "colab": {
          "base_uri": "https://localhost:8080/",
          "height": 295
        }
      },
      "source": [
        "visualise_errors_by_class(classify_table)"
      ],
      "execution_count": 0,
      "outputs": [
        {
          "output_type": "display_data",
          "data": {
            "image/png": "[encoded data removed]",
            "text/plain": [
              "<Figure size 432x288 with 1 Axes>"
            ]
          },
          "metadata": {
            "tags": [],
            "needs_background": "light"
          }
        }
      ]
    },
    {
      "cell_type": "code",
      "metadata": {
        "id": "k4A8cUhQ5LxX",
        "colab_type": "code",
        "outputId": "5cc4b93a-624b-44ca-a8a7-0475b4f9181d",
        "colab": {
          "base_uri": "https://localhost:8080/",
          "height": 296
        }
      },
      "source": [
        "visualise_errors_for_class(classify_table, 3)"
      ],
      "execution_count": 0,
      "outputs": [
        {
          "output_type": "display_data",
          "data": {
            "image/png": "[encoded data removed]",
            "text/plain": [
              "<Figure size 432x288 with 1 Axes>"
            ]
          },
          "metadata": {
            "tags": [],
            "needs_background": "light"
          }
        }
      ]
    }
  ]
}