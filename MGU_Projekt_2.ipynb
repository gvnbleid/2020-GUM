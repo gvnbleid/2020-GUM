{
  "nbformat": 4,
  "nbformat_minor": 0,
  "metadata": {
    "colab": {
      "name": "MGU_Projekt_2.ipynb",
      "provenance": [],
      "collapsed_sections": [],
      "toc_visible": true,
      "include_colab_link": true
    },
    "kernelspec": {
      "name": "python3",
      "display_name": "Python 3"
    },
    "accelerator": "GPU",
    "widgets": {
      "application/vnd.jupyter.widget-state+json": {
        "57788401ef194e799280c5a0679bfce4": {
          "model_module": "@jupyter-widgets/controls",
          "model_name": "HBoxModel",
          "state": {
            "_view_name": "HBoxView",
            "_dom_classes": [],
            "_model_name": "HBoxModel",
            "_view_module": "@jupyter-widgets/controls",
            "_model_module_version": "1.5.0",
            "_view_count": null,
            "_view_module_version": "1.5.0",
            "box_style": "",
            "layout": "IPY_MODEL_b05cf13714664090b3f3d71c6a714a40",
            "_model_module": "@jupyter-widgets/controls",
            "children": [
              "IPY_MODEL_3b38c0f470ac489c846d618375bfa372",
              "IPY_MODEL_95dcf7b06e8d4d62adcd6332738303b2"
            ]
          }
        },
        "b05cf13714664090b3f3d71c6a714a40": {
          "model_module": "@jupyter-widgets/base",
          "model_name": "LayoutModel",
          "state": {
            "_view_name": "LayoutView",
            "grid_template_rows": null,
            "right": null,
            "justify_content": null,
            "_view_module": "@jupyter-widgets/base",
            "overflow": null,
            "_model_module_version": "1.2.0",
            "_view_count": null,
            "flex_flow": null,
            "width": null,
            "min_width": null,
            "border": null,
            "align_items": null,
            "bottom": null,
            "_model_module": "@jupyter-widgets/base",
            "top": null,
            "grid_column": null,
            "overflow_y": null,
            "overflow_x": null,
            "grid_auto_flow": null,
            "grid_area": null,
            "grid_template_columns": null,
            "flex": null,
            "_model_name": "LayoutModel",
            "justify_items": null,
            "grid_row": null,
            "max_height": null,
            "align_content": null,
            "visibility": null,
            "align_self": null,
            "height": null,
            "min_height": null,
            "padding": null,
            "grid_auto_rows": null,
            "grid_gap": null,
            "max_width": null,
            "order": null,
            "_view_module_version": "1.2.0",
            "grid_template_areas": null,
            "object_position": null,
            "object_fit": null,
            "grid_auto_columns": null,
            "margin": null,
            "display": null,
            "left": null
          }
        },
        "3b38c0f470ac489c846d618375bfa372": {
          "model_module": "@jupyter-widgets/controls",
          "model_name": "IntProgressModel",
          "state": {
            "_view_name": "ProgressView",
            "style": "IPY_MODEL_b2613041f191432a967db95c0bcd97c1",
            "_dom_classes": [],
            "description": "100%",
            "_model_name": "IntProgressModel",
            "bar_style": "success",
            "max": 553507836,
            "_view_module": "@jupyter-widgets/controls",
            "_model_module_version": "1.5.0",
            "value": 553507836,
            "_view_count": null,
            "_view_module_version": "1.5.0",
            "orientation": "horizontal",
            "min": 0,
            "description_tooltip": null,
            "_model_module": "@jupyter-widgets/controls",
            "layout": "IPY_MODEL_be69d8887eeb4a7f875ac1b53fbeb2ce"
          }
        },
        "95dcf7b06e8d4d62adcd6332738303b2": {
          "model_module": "@jupyter-widgets/controls",
          "model_name": "HTMLModel",
          "state": {
            "_view_name": "HTMLView",
            "style": "IPY_MODEL_4f6eda603e1347ae8de69d250d151294",
            "_dom_classes": [],
            "description": "",
            "_model_name": "HTMLModel",
            "placeholder": "​",
            "_view_module": "@jupyter-widgets/controls",
            "_model_module_version": "1.5.0",
            "value": " 170500096/? [00:30&lt;00:00, 14836770.11it/s]",
            "_view_count": null,
            "_view_module_version": "1.5.0",
            "description_tooltip": null,
            "_model_module": "@jupyter-widgets/controls",
            "layout": "IPY_MODEL_4462a9bc38bc4da0bd14dbed71f262a4"
          }
        },
        "b2613041f191432a967db95c0bcd97c1": {
          "model_module": "@jupyter-widgets/controls",
          "model_name": "ProgressStyleModel",
          "state": {
            "_view_name": "StyleView",
            "_model_name": "ProgressStyleModel",
            "description_width": "initial",
            "_view_module": "@jupyter-widgets/base",
            "_model_module_version": "1.5.0",
            "_view_count": null,
            "_view_module_version": "1.2.0",
            "bar_color": null,
            "_model_module": "@jupyter-widgets/controls"
          }
        },
        "be69d8887eeb4a7f875ac1b53fbeb2ce": {
          "model_module": "@jupyter-widgets/base",
          "model_name": "LayoutModel",
          "state": {
            "_view_name": "LayoutView",
            "grid_template_rows": null,
            "right": null,
            "justify_content": null,
            "_view_module": "@jupyter-widgets/base",
            "overflow": null,
            "_model_module_version": "1.2.0",
            "_view_count": null,
            "flex_flow": null,
            "width": null,
            "min_width": null,
            "border": null,
            "align_items": null,
            "bottom": null,
            "_model_module": "@jupyter-widgets/base",
            "top": null,
            "grid_column": null,
            "overflow_y": null,
            "overflow_x": null,
            "grid_auto_flow": null,
            "grid_area": null,
            "grid_template_columns": null,
            "flex": null,
            "_model_name": "LayoutModel",
            "justify_items": null,
            "grid_row": null,
            "max_height": null,
            "align_content": null,
            "visibility": null,
            "align_self": null,
            "height": null,
            "min_height": null,
            "padding": null,
            "grid_auto_rows": null,
            "grid_gap": null,
            "max_width": null,
            "order": null,
            "_view_module_version": "1.2.0",
            "grid_template_areas": null,
            "object_position": null,
            "object_fit": null,
            "grid_auto_columns": null,
            "margin": null,
            "display": null,
            "left": null
          }
        },
        "4f6eda603e1347ae8de69d250d151294": {
          "model_module": "@jupyter-widgets/controls",
          "model_name": "DescriptionStyleModel",
          "state": {
            "_view_name": "StyleView",
            "_model_name": "DescriptionStyleModel",
            "description_width": "",
            "_view_module": "@jupyter-widgets/base",
            "_model_module_version": "1.5.0",
            "_view_count": null,
            "_view_module_version": "1.2.0",
            "_model_module": "@jupyter-widgets/controls"
          }
        },
        "4462a9bc38bc4da0bd14dbed71f262a4": {
          "model_module": "@jupyter-widgets/base",
          "model_name": "LayoutModel",
          "state": {
            "_view_name": "LayoutView",
            "grid_template_rows": null,
            "right": null,
            "justify_content": null,
            "_view_module": "@jupyter-widgets/base",
            "overflow": null,
            "_model_module_version": "1.2.0",
            "_view_count": null,
            "flex_flow": null,
            "width": null,
            "min_width": null,
            "border": null,
            "align_items": null,
            "bottom": null,
            "_model_module": "@jupyter-widgets/base",
            "top": null,
            "grid_column": null,
            "overflow_y": null,
            "overflow_x": null,
            "grid_auto_flow": null,
            "grid_area": null,
            "grid_template_columns": null,
            "flex": null,
            "_model_name": "LayoutModel",
            "justify_items": null,
            "grid_row": null,
            "max_height": null,
            "align_content": null,
            "visibility": null,
            "align_self": null,
            "height": null,
            "min_height": null,
            "padding": null,
            "grid_auto_rows": null,
            "grid_gap": null,
            "max_width": null,
            "order": null,
            "_view_module_version": "1.2.0",
            "grid_template_areas": null,
            "object_position": null,
            "object_fit": null,
            "grid_auto_columns": null,
            "margin": null,
            "display": null,
            "left": null
          }
        }
      }
    }
  },
  "cells": [
    {
      "cell_type": "markdown",
      "metadata": {
        "id": "view-in-github",
        "colab_type": "text"
      },
      "source": [
        "<a href=\"https://colab.research.google.com/github/gvnbleid/2020-GUM/blob/maciek-branch/MGU_Projekt_2.ipynb\" target=\"_parent\"><img src=\"https://colab.research.google.com/assets/colab-badge.svg\" alt=\"Open In Colab\"/></a>"
      ]
    },
    {
      "cell_type": "markdown",
      "metadata": {
        "id": "M9Hp_79xzNHL",
        "colab_type": "text"
      },
      "source": [
        "# Integracja z Google Drive"
      ]
    },
    {
      "cell_type": "code",
      "metadata": {
        "id": "Cic3sCC_zWw-",
        "colab_type": "code",
        "outputId": "2acac085-9c2d-4303-8bcc-d1d6e419e9e7",
        "colab": {
          "base_uri": "https://localhost:8080/",
          "height": 124
        }
      },
      "source": [
        "from google.colab import drive\n",
        "drive.mount('/content/gdrive')\n",
        "BASE_DIR = '/content/gdrive/My Drive/DL2020/Projekt2/'"
      ],
      "execution_count": 1,
      "outputs": [
        {
          "output_type": "stream",
          "text": [
            "Go to this URL in a browser: https://accounts.google.com/o/oauth2/auth?client_id=947318989803-6bn6qk8qdgf4n4g3pfee6491hc0brc4i.apps.googleusercontent.com&redirect_uri=urn%3aietf%3awg%3aoauth%3a2.0%3aoob&response_type=code&scope=email%20https%3a%2f%2fwww.googleapis.com%2fauth%2fdocs.test%20https%3a%2f%2fwww.googleapis.com%2fauth%2fdrive%20https%3a%2f%2fwww.googleapis.com%2fauth%2fdrive.photos.readonly%20https%3a%2f%2fwww.googleapis.com%2fauth%2fpeopleapi.readonly\n",
            "\n",
            "Enter your authorization code:\n",
            "··········\n",
            "Mounted at /content/gdrive\n"
          ],
          "name": "stdout"
        }
      ]
    },
    {
      "cell_type": "markdown",
      "metadata": {
        "id": "qGdF3mbTx5wX",
        "colab_type": "text"
      },
      "source": [
        "# Sieć konwolucyjna"
      ]
    },
    {
      "cell_type": "markdown",
      "metadata": {
        "id": "TbzarbsUzYmX",
        "colab_type": "text"
      },
      "source": [
        "## Konfiguracja wstępna"
      ]
    },
    {
      "cell_type": "code",
      "metadata": {
        "id": "MCe_msV2M8CU",
        "colab_type": "code",
        "colab": {}
      },
      "source": [
        "%matplotlib inline"
      ],
      "execution_count": 0,
      "outputs": []
    },
    {
      "cell_type": "code",
      "metadata": {
        "id": "NqrpJX4iNbNb",
        "colab_type": "code",
        "colab": {}
      },
      "source": [
        "import torch\n",
        "import torchvision\n",
        "import torchvision.transforms as transforms\n",
        "import torch.nn as nn\n",
        "import torch.nn.functional as F\n",
        "import torchvision.models as models\n",
        "import time\n",
        "import copy"
      ],
      "execution_count": 0,
      "outputs": []
    },
    {
      "cell_type": "code",
      "metadata": {
        "id": "5lATCtCUUBO1",
        "colab_type": "code",
        "outputId": "97194410-fdd8-4f78-8e27-c7641d91eb38",
        "colab": {
          "base_uri": "https://localhost:8080/",
          "height": 34
        }
      },
      "source": [
        "device = torch.device(\"cuda:0\" if torch.cuda.is_available() else \"cuda not available\")\n",
        "print(device)"
      ],
      "execution_count": 4,
      "outputs": [
        {
          "output_type": "stream",
          "text": [
            "cuda:0\n"
          ],
          "name": "stdout"
        }
      ]
    },
    {
      "cell_type": "code",
      "metadata": {
        "id": "SxVjlRlJSKMn",
        "colab_type": "code",
        "colab": {}
      },
      "source": [
        "class AddGaussianNoise(object):\n",
        "    def __init__(self, mean=0., std=1.):\n",
        "        self.std = std\n",
        "        self.mean = mean\n",
        "        \n",
        "    def __call__(self, tensor):\n",
        "        return tensor + torch.randn(tensor.size()) * self.std + self.mean\n",
        "    \n",
        "    def __repr__(self):\n",
        "        return self.__class__.__name__ + '(mean={0}, std={1})'.format(self.mean, self.std)"
      ],
      "execution_count": 0,
      "outputs": []
    },
    {
      "cell_type": "markdown",
      "metadata": {
        "id": "PhcF_PqpygER",
        "colab_type": "text"
      },
      "source": [
        "## Konfiguracja sieci"
      ]
    },
    {
      "cell_type": "code",
      "metadata": {
        "id": "kB33jB3zhpTy",
        "colab_type": "code",
        "cellView": "both",
        "colab": {}
      },
      "source": [
        "#@title Metody augmentacji { run: \"auto\" }\n",
        "translation_checkbox = False #@param {type:\"boolean\"}\n",
        "flip_checkbox = True #@param {type:\"boolean\"}\n",
        "rotation_checkbox = False #@param {type:\"boolean\"}\n",
        "noise_checkbox = False #@param {type:\"boolean\"}\n",
        "color_checkbox = True #@param {type:\"boolean\"}\n",
        "crop_checkbox = False #@param {type:\"boolean\"}"
      ],
      "execution_count": 0,
      "outputs": []
    },
    {
      "cell_type": "code",
      "metadata": {
        "id": "mI6JH0NqNdMy",
        "colab_type": "code",
        "cellView": "form",
        "colab": {}
      },
      "source": [
        "transforms_array_train = []\n",
        "\n",
        "if crop_checkbox:\n",
        "    transforms_array_train.append(transforms.RandomCrop(padding=None, size=(32,32)))\n",
        "if translation_checkbox:\n",
        "    transforms_array_train.append(transforms.RandomAffine(0, (0.2, 0.2)))\n",
        "if flip_checkbox:\n",
        "    transforms_array_train.append(transforms.RandomHorizontalFlip(p=0.5))\n",
        "if rotation_checkbox:\n",
        "    transforms_array_train.append(transforms.RandomRotation(degrees=(-15,15), resample=False, expand=False))\n",
        "if color_checkbox:\n",
        "    transforms_array_train.append(transforms.ColorJitter(brightness=[0.8,1.2], contrast=[0.8,1.2], saturation=[0.8,1.2]))\n",
        "if noise_checkbox:\n",
        "    transforms_array_train.append(AddGaussianNoise(0., 0.2))\n",
        "\n",
        "transforms_array_train.append(transforms.ToTensor())\n",
        "transforms_array_train.append(transforms.Normalize((0.5, 0.5, 0.5), (0.5, 0.5, 0.5)))\n",
        "\n",
        "transforms_array_test = []\n",
        "\n",
        "transforms_array_test.append(transforms.ToTensor())\n",
        "transforms_array_test.append(transforms.Normalize((0.5, 0.5, 0.5), (0.5, 0.5, 0.5)))"
      ],
      "execution_count": 0,
      "outputs": []
    },
    {
      "cell_type": "code",
      "metadata": {
        "id": "HMipY73C0G_K",
        "colab_type": "code",
        "outputId": "49e6ff0b-88aa-4aa7-e2d0-9752e230a427",
        "colab": {
          "base_uri": "https://localhost:8080/",
          "height": 100,
          "referenced_widgets": [
            "57788401ef194e799280c5a0679bfce4",
            "b05cf13714664090b3f3d71c6a714a40",
            "3b38c0f470ac489c846d618375bfa372",
            "95dcf7b06e8d4d62adcd6332738303b2",
            "b2613041f191432a967db95c0bcd97c1",
            "be69d8887eeb4a7f875ac1b53fbeb2ce",
            "4f6eda603e1347ae8de69d250d151294",
            "4462a9bc38bc4da0bd14dbed71f262a4"
          ]
        }
      },
      "source": [
        "transform_train = transforms.Compose(transforms_array_train)\n",
        "transform_test = transforms.Compose(transforms_array_test)\n",
        "\n",
        "trainset = torchvision.datasets.CIFAR10(root='./data', train=True,\n",
        "                                        download=True, transform=transform_train)\n",
        "trainloader = torch.utils.data.DataLoader(trainset, batch_size=100,\n",
        "                                          shuffle=True, num_workers=2)\n",
        "\n",
        "testset = torchvision.datasets.CIFAR10(root='./data', train=False,\n",
        "                                       download=True, transform=transform_test)\n",
        "testloader = torch.utils.data.DataLoader(testset, batch_size=100,\n",
        "                                         shuffle=False, num_workers=2)\n",
        "\n",
        "classes = ('plane', 'car', 'bird', 'cat',\n",
        "           'deer', 'dog', 'frog', 'horse', 'ship', 'truck')"
      ],
      "execution_count": 7,
      "outputs": [
        {
          "output_type": "stream",
          "text": [
            "Downloading https://www.cs.toronto.edu/~kriz/cifar-10-python.tar.gz to ./data/cifar-10-python.tar.gz\n"
          ],
          "name": "stdout"
        },
        {
          "output_type": "display_data",
          "data": {
            "application/vnd.jupyter.widget-view+json": {
              "model_id": "57788401ef194e799280c5a0679bfce4",
              "version_minor": 0,
              "version_major": 2
            },
            "text/plain": [
              "HBox(children=(IntProgress(value=1, bar_style='info', max=1), HTML(value='')))"
            ]
          },
          "metadata": {
            "tags": []
          }
        },
        {
          "output_type": "stream",
          "text": [
            "Extracting ./data/cifar-10-python.tar.gz to ./data\n",
            "Files already downloaded and verified\n"
          ],
          "name": "stdout"
        }
      ]
    },
    {
      "cell_type": "code",
      "metadata": {
        "id": "kYmSq26eShKe",
        "colab_type": "code",
        "outputId": "33d38faa-3af6-42b0-ab9d-824a3f88315b",
        "colab": {
          "base_uri": "https://localhost:8080/",
          "height": 286
        }
      },
      "source": [
        "import matplotlib.pyplot as plt\n",
        "import numpy as np\n",
        "\n",
        "# functions to show an image\n",
        "\n",
        "\n",
        "def imshow(img):\n",
        "    img = img / 2 + 0.5     # unnormalize\n",
        "    npimg = img.numpy()\n",
        "    plt.imshow(np.transpose(npimg, (1, 2, 0)))\n",
        "\n",
        "\n",
        "# get some random training images\n",
        "dataiter = iter(trainloader)\n",
        "images, labels = dataiter.next()\n",
        "\n",
        "# show images\n",
        "imshow(torchvision.utils.make_grid(images))\n",
        "# print labels\n",
        "print(' '.join('%5s' % classes[labels[j]] for j in range(10)))"
      ],
      "execution_count": 8,
      "outputs": [
        {
          "output_type": "stream",
          "text": [
            " frog   cat   car   car  bird  frog   car  ship plane plane\n"
          ],
          "name": "stdout"
        },
        {
          "output_type": "display_data",
          "data": {
            "image/png": "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\n",
            "text/plain": [
              "<Figure size 432x288 with 1 Axes>"
            ]
          },
          "metadata": {
            "tags": [],
            "needs_background": "light"
          }
        }
      ]
    },
    {
      "cell_type": "markdown",
      "metadata": {
        "id": "PhcF_PqpygER",
        "colab_type": "text"
      },
      "source": [
        "## Konfiguracja sieci"
      ]
    },
    {
      "cell_type": "code",
      "metadata": {
        "id": "HMipY73C0G_K",
        "colab_type": "code",
        "outputId": "dc149508-3994-4719-9d24-9eecbca3a56a",
        "colab": {
          "base_uri": "https://localhost:8080/",
          "height": 527
        }
      },
      "source": [
        "#@title Wybór konfiguracji { run: \"auto\" }\n",
        "\n",
        "config = \"Pretrained VGG16\" #@param [\"Adventures in Machine Learning\", \"PyTorch tutorial\", \"Wzbogacony LeNet-5\", \"Wlasna konfiguracja 1\", \"Pretrained VGG16\"]",
        "\n",
        "last_epoch = 0\n",
        "last_loss = None\n",
        "\n",
        "class Net(nn.Module):\n",
        "    if config == \"PyTorch tutorial\":\n",
        "        def __init__(self):\n",
        "            super(Net, self).__init__()\n",
        "            self.conv1 = nn.Conv2d(3, 6, 5)\n",
        "            self.pool = nn.MaxPool2d(2, 2)\n",
        "            self.conv2 = nn.Conv2d(6, 16, 5)\n",
        "            self.fc1 = nn.Linear(16 * 5 * 5, 120)\n",
        "            self.fc2 = nn.Linear(120, 84)\n",
        "            self.fc3 = nn.Linear(84, 10)\n",
        "\n",
        "        def forward(self, x):\n",
        "            x = self.pool(F.relu(self.conv1(x)))\n",
        "            x = self.pool(F.relu(self.conv2(x)))\n",
        "            x = x.view(-1, 16 * 5 * 5)\n",
        "            x = F.relu(self.fc1(x))\n",
        "            x = F.relu(self.fc2(x))\n",
        "            x = self.fc3(x)\n",
        "            return x\n",
        "\n",
        "    elif config == \"Adventures in Machine Learning\":\n",
        "        def __init__(self):\n",
        "            super(Net, self).__init__()\n",
        "            self.conv1 = nn.Conv2d(3, 32, 5)\n",
        "            self.pool = nn.MaxPool2d(2, 2)\n",
        "            self.conv2 = nn.Conv2d(32, 64, 5)\n",
        "            self.fc1 = nn.Linear(64 * 5 * 5, 1000)\n",
        "            self.fc2 = nn.Linear(1000, 10)\n",
        "\n",
        "        def forward(self, x):\n",
        "            x = self.pool(F.relu(self.conv1(x)))\n",
        "            x = self.pool(F.relu(self.conv2(x)))\n",
        "            x = x.view(-1, 64 * 5 * 5)\n",
        "            x = F.relu(self.fc1(x))\n",
        "            x = F.softmax(self.fc2(x), dim=0)\n",
        "            return x\n",
        "\n",
        "    elif config == \"Zmodyfikowany LeNet-5\":\n",
        "        def __init__(self):\n",
        "            super(Net, self).__init__()\n",
        "\n",
        "            self.conv1 = nn.Conv2d(in_channels = 3, out_channels = 8, stride = 1, kernel_size = 3, padding = 1)\n",
        "            self.relu1 = nn.ReLU()\n",
        "            self.conv2 = nn.Conv2d(in_channels = 8, out_channels = 16, stride = 1, kernel_size = 3, padding = 1)\n",
        "            self.relu2 = nn.ReLU()\n",
        "            self.maxpool1 = nn.MaxPool2d(kernel_size = 2, stride = 2)\n",
        "            self.conv3 = nn.Conv2d(in_channels = 16, out_channels = 32, stride = 1, kernel_size = 3, padding = 0)\n",
        "            self.relu3 = nn.ReLU()\n",
        "            self.maxpool2 = nn.MaxPool2d(kernel_size = 2, stride = 2)\n",
        "            self.linear1 = nn.Linear(7 * 7 * 32, 300)\n",
        "            self.relu4 = nn.ReLU()\n",
        "            self.drop1 = nn.Dropout(p = 0.5)\n",
        "            self.linear2 = nn.Linear(300, 10)\n",
        "\n",
        "            self.net = nn.Sequential(self.conv1, self.relu1, self.conv2, self.relu2,\n",
        "                                 self.maxpool1, self.conv3, self.relu3, self.maxpool2)\n",
        "                                             \n",
        "        def forward(self, x):\n",
        "            x = self.net(x)\n",
        "            x = x.view(-1, x.shape[0] , 7 * 7 * 32)\n",
        "            x = self.linear1(x)\n",
        "            x = self.relu4(x)\n",
        "            x = self.drop1(x)\n",
        "            x = self.linear2(x)\n",
        "            return x\n",
        "\n",
        "    elif config == \"Wlasna konfiguracja 1\":\n",
        "        def __init__(self):\n",
        "            super(Net, self).__init__()\n",
        "\n",
        "            self.conv1 = nn.Conv2d(in_channels = 3, out_channels = 16, stride = 1, kernel_size = 3, padding = 1)\n",
        "            self.batchnorm1 = nn.BatchNorm2d(num_features = 16)\n",
        "            self.relu1 = nn.ReLU()\n",
        "            self.conv2 = nn.Conv2d(in_channels = 16, out_channels = 32, stride = 1, kernel_size = 3, padding = 1)\n",
        "            self.batchnorm2 = nn.BatchNorm2d(num_features = 32)\n",
        "            self.relu2 = nn.ReLU()\n",
        "            self.maxpool2 = nn.MaxPool2d(kernel_size = 2, stride = 2)\n",
        "            self.conv3 = nn.Conv2d(in_channels = 32, out_channels = 64, stride = 1, kernel_size = 3, padding = 0)\n",
        "            self.batchnorm3 = nn.BatchNorm2d(num_features = 64)\n",
        "            self.relu3 = nn.ReLU()\n",
        "            self.maxpool3 = nn.MaxPool2d(kernel_size = 2, stride = 2)\n",
        "            self.linear1 = nn.Linear(7 * 7 * 64, 300)\n",
        "            self.relu4 = nn.ReLU()\n",
        "            self.drop1 = nn.Dropout(p = 0.5)\n",
        "            self.linear2 = nn.Linear(300, 10)\n",
        "            self.net = nn.Sequential(self.conv1, self.batchnorm1, self.relu1, self.conv2, self.batchnorm2, self.relu2,\n",
        "                                 self.maxpool2, self.conv3, self.batchnorm3, self.relu3, self.maxpool3)\n",
        "                                             \n",
        "        def forward(self, x):\n",
        "            x = self.net(x)\n",
        "            x = x.view(-1, x.shape[0] , 7 * 7 * 64)\n",
        "            x = self.linear1(x)\n",
        "            x = self.relu4(x)\n",
        "            x = self.drop1(x)\n",
        "            x = self.linear2(x)\n",
        "            return x\n",
        "\n",
        "net = None\n",
        "input_size = 32\n",
        "\n",
        "if config == \"Pretrained VGG16\":\n",
        "    def set_parameter_requires_grad(model):\n",
        "        for param in model.parameters():\n",
        "            param.requires_grad = False\n",
        "\n",
        "    net = models.vgg16_bn(pretrained=True)\n",
        "    set_parameter_requires_grad(net)\n",
        "    num_ftrs = net.classifier[6].in_features\n",
        "    net.classifier[6] = nn.Linear(num_ftrs, 10)\n",
        "    net = net.to(device)\n",
        "    input_size = 224\n",
        "else:\n",
        "    net = Net().to(device)\n",
        "\n",
        "net"
      ],
      "execution_count": 0,
      "outputs": [
        {
          "output_type": "stream",
          "text": [
            "Downloading: \"https://download.pytorch.org/models/vgg16_bn-6c64b313.pth\" to /root/.cache/torch/checkpoints/vgg16_bn-6c64b313.pth\n"
          ],
          "name": "stderr"
        },
        {
          "output_type": "display_data",
          "data": {
            "application/vnd.jupyter.widget-view+json": {
              "model_id": "8a25832fdc73450e9576f9c59bc570d3",
              "version_minor": 0,
              "version_major": 2
            },
            "text/plain": [
              "HBox(children=(IntProgress(value=0, max=553507836), HTML(value='')))"
            ]
          },
          "metadata": {
            "tags": []
          }
        },
        {
          "output_type": "stream",
          "text": [
            "\n"
          ],
          "name": "stdout"
        },
        {
          "output_type": "execute_result",
          "data": {
            "text/plain": [
              "Net(\n",
              "  (conv1): Conv2d(3, 16, kernel_size=(3, 3), stride=(1, 1), padding=(1, 1))\n",
              "  (batchnorm1): BatchNorm2d(16, eps=1e-05, momentum=0.1, affine=True, track_running_stats=True)\n",
              "  (relu1): ReLU()\n",
              "  (conv2): Conv2d(16, 32, kernel_size=(3, 3), stride=(1, 1), padding=(1, 1))\n",
              "  (batchnorm2): BatchNorm2d(32, eps=1e-05, momentum=0.1, affine=True, track_running_stats=True)\n",
              "  (relu2): ReLU()\n",
              "  (maxpool2): MaxPool2d(kernel_size=2, stride=2, padding=0, dilation=1, ceil_mode=False)\n",
              "  (conv3): Conv2d(32, 64, kernel_size=(3, 3), stride=(1, 1))\n",
              "  (batchnorm3): BatchNorm2d(64, eps=1e-05, momentum=0.1, affine=True, track_running_stats=True)\n",
              "  (relu3): ReLU()\n",
              "  (maxpool3): MaxPool2d(kernel_size=2, stride=2, padding=0, dilation=1, ceil_mode=False)\n",
              "  (linear1): Linear(in_features=3136, out_features=300, bias=True)\n",
              "  (relu4): ReLU()\n",
              "  (drop1): Dropout(p=0.5, inplace=False)\n",
              "  (linear2): Linear(in_features=300, out_features=10, bias=True)\n",
              "  (net): Sequential(\n",
              "    (0): Conv2d(3, 16, kernel_size=(3, 3), stride=(1, 1), padding=(1, 1))\n",
              "    (1): BatchNorm2d(16, eps=1e-05, momentum=0.1, affine=True, track_running_stats=True)\n",
              "    (2): ReLU()\n",
              "    (3): Conv2d(16, 32, kernel_size=(3, 3), stride=(1, 1), padding=(1, 1))\n",
              "    (4): BatchNorm2d(32, eps=1e-05, momentum=0.1, affine=True, track_running_stats=True)\n",
              "    (5): ReLU()\n",
              "    (6): MaxPool2d(kernel_size=2, stride=2, padding=0, dilation=1, ceil_mode=False)\n",
              "    (7): Conv2d(32, 64, kernel_size=(3, 3), stride=(1, 1))\n",
              "    (8): BatchNorm2d(64, eps=1e-05, momentum=0.1, affine=True, track_running_stats=True)\n",
              "    (9): ReLU()\n",
              "    (10): MaxPool2d(kernel_size=2, stride=2, padding=0, dilation=1, ceil_mode=False)\n",
              "  )\n",
              ")"
            ]
          },
          "metadata": {
            "tags": []
          },
          "execution_count": 9
        }
      ]
    },
    {
      "cell_type": "code",
      "metadata": {
        "id": "2vmlgb9OGTqW",
        "colab_type": "code",
        "outputId": "74b0f098-8d20-4861-cf4f-0ce44d73c2d0",
        "colab": {
          "base_uri": "https://localhost:8080/",
          "height": 680
        }
      },
      "source": [
        "from torchsummary import summary\n",
        "summary(net, input_size=(3, 32, 32))"
      ],
      "execution_count": 19,
      "outputs": [
        {
          "output_type": "stream",
          "text": [
            "----------------------------------------------------------------\n",
            "        Layer (type)               Output Shape         Param #\n",
            "================================================================\n",
            "            Conv2d-1           [-1, 16, 32, 32]             448\n",
            "            Conv2d-2           [-1, 16, 32, 32]             448\n",
            "       BatchNorm2d-3           [-1, 16, 32, 32]              32\n",
            "       BatchNorm2d-4           [-1, 16, 32, 32]              32\n",
            "              ReLU-5           [-1, 16, 32, 32]               0\n",
            "              ReLU-6           [-1, 16, 32, 32]               0\n",
            "            Conv2d-7           [-1, 32, 32, 32]           4,640\n",
            "            Conv2d-8           [-1, 32, 32, 32]           4,640\n",
            "       BatchNorm2d-9           [-1, 32, 32, 32]              64\n",
            "      BatchNorm2d-10           [-1, 32, 32, 32]              64\n",
            "             ReLU-11           [-1, 32, 32, 32]               0\n",
            "             ReLU-12           [-1, 32, 32, 32]               0\n",
            "        MaxPool2d-13           [-1, 32, 16, 16]               0\n",
            "        MaxPool2d-14           [-1, 32, 16, 16]               0\n",
            "           Conv2d-15           [-1, 64, 14, 14]          18,496\n",
            "           Conv2d-16           [-1, 64, 14, 14]          18,496\n",
            "      BatchNorm2d-17           [-1, 64, 14, 14]             128\n",
            "      BatchNorm2d-18           [-1, 64, 14, 14]             128\n",
            "             ReLU-19           [-1, 64, 14, 14]               0\n",
            "             ReLU-20           [-1, 64, 14, 14]               0\n",
            "        MaxPool2d-21             [-1, 64, 7, 7]               0\n",
            "        MaxPool2d-22             [-1, 64, 7, 7]               0\n",
            "           Linear-23               [-1, 2, 300]         941,100\n",
            "             ReLU-24               [-1, 2, 300]               0\n",
            "          Dropout-25               [-1, 2, 300]               0\n",
            "           Linear-26                [-1, 2, 10]           3,010\n",
            "================================================================\n",
            "Total params: 991,726\n",
            "Trainable params: 991,726\n",
            "Non-trainable params: 0\n",
            "----------------------------------------------------------------\n",
            "Input size (MB): 0.01\n",
            "Forward/backward pass size (MB): 3.01\n",
            "Params size (MB): 3.78\n",
            "Estimated Total Size (MB): 6.81\n",
            "----------------------------------------------------------------\n"
          ],
          "name": "stdout"
        }
      ]
    },
    {
      "cell_type": "code",
      "metadata": {
        "id": "I-5utLSwTjjv",
        "colab_type": "code",
        "colab": {}
      },
      "source": [
        "import torch.optim as optim\n",
        "\n",
        "criterion = nn.CrossEntropyLoss()\n",
        "\n",
        "params_to_update = []\n",
        "for param in net.parameters():\n",
        "    if param.requires_grad == True:\n",
        "        params_to_update.append(param)\n",
        "\n",
        "optimizer = optim.SGD(params_to_update, lr=0.001, momentum=0.9)"
        "loss_array = []\n",
        "acc_array = []\n",
        "max_acc = 0"
      ],
      "execution_count": 0,
      "outputs": []
    },
    {
      "cell_type": "markdown",
      "metadata": {
        "id": "-5dtraYJ9wTC",
        "colab_type": "text"
      },
      "source": [
        "### Wczytanie stanu sieci (opcjonalne)"
      ]
    },
    {
      "cell_type": "code",
      "metadata": {
        "id": "cEhQaYFv96A8",
        "colab_type": "code",
        "colab": {}
      },
      "source": [
        "load_state = True #@param {type: \"boolean\"}\n",
        "path = \"wlasna_best_20.04.19_15:40:35.pt\" #@param {type: \"string\"}\n",
        "\n",
        "if load_state:\n",
        "    checkpoint = torch.load(BASE_DIR + path)\n",
        "    net.load_state_dict(checkpoint['model_state_dict'])\n",
        "    optimizer.load_state_dict(checkpoint['optimizer_state_dict'])\n",
        "    criterion.load_state_dict(checkpoint['criterion_state_dict'])\n",
        "    last_epoch = checkpoint['epoch']\n",
        "    last_loss = checkpoint['loss']\n",
        "    loss_array = checkpoint['loss_array']\n",
        "    acc_array = checkpoint['acc_array']\n",
        "    net.eval()"
      ],
      "execution_count": 0,
      "outputs": []
    },
    {
      "cell_type": "markdown",
      "metadata": {
        "id": "2TspiX6PyB9N",
        "colab_type": "text"
      },
      "source": [
        "## Ustawienia augmentacji danych"
      ]
    },
    {
      "cell_type": "code",
      "metadata": {
        "id": "kB33jB3zhpTy",
        "colab_type": "code",
        "cellView": "both",
        "colab": {}
      },
      "source": [
        "#@title Metody augmentacji { run: \"auto\" }\n",
        "translation_checkbox = False #@param {type:\"boolean\"}\n",
        "flip_checkbox = False #@param {type:\"boolean\"}\n",
        "rotation_checkbox = False #@param {type:\"boolean\"}\n",
        "noise_checkbox = False #@param {type:\"boolean\"}"
      ],
      "execution_count": 0,
      "outputs": []
    },
    {
      "cell_type": "code",
      "metadata": {
        "id": "mI6JH0NqNdMy",
        "colab_type": "code",
        "colab": {}
      },
      "source": [
        "transforms_array = []\n",
        "\n",
        "transforms_array.append(transforms.Resize(input_size))\n",
        "\n",
        "if translation_checkbox:\n",
        "    transforms_array.append(transforms.RandomAffine(0, (0.2, 0.2)))\n",
        "if flip_checkbox:\n",
        "    transforms_array.append(transforms.RandomHorizontalFlip())\n",
        "if rotation_checkbox:\n",
        "    transforms_array.append(transforms.RandomRotation(30))\n",
        "\n",
        "transforms_array.append(transforms.ToTensor())\n",
        "transforms_array.append(transforms.Normalize(mean=[0.485, 0.456, 0.406],\n",
        "                                             std=[0.229, 0.224, 0.225]))\n",
        "\n",
        "if noise_checkbox:\n",
        "    transforms_array.append(AddGaussianNoise(0., 0.2))"
      ],
      "execution_count": 0,
      "outputs": []
    },
    {
      "cell_type": "markdown",
      "metadata": {
        "id": "fgDB0MJEyLUv",
        "colab_type": "text"
      },
      "source": [
        "## Wczytanie danych"
      ]
    },
    {
      "cell_type": "code",
      "metadata": {
        "id": "23wbllWBNfEX",
        "colab_type": "code",
        "outputId": "1bad32a6-8bf4-40fd-d3d3-cfcc7555d8c2",
        "colab": {
          "base_uri": "https://localhost:8080/",
          "height": 52
        }
      },
      "source": [
        "transform = transforms.Compose(transforms_array)\n",
        "test_transform = transforms.Compose([\n",
        "                                     transforms.Resize(input_size),\n",
        "                                     transforms.ToTensor(),\n",
        "                                     transforms.Normalize(\n",
        "                                         [0.485, 0.456, 0.406],\n",
        "                                         [0.229, 0.224, 0.225]\n",
        "                                     )\n",
        "])\n",
        "\n",
        "trainset = torchvision.datasets.CIFAR10(root='./data', train=True,\n",
        "                                        download=True, transform=transform)\n",
        "trainloader = torch.utils.data.DataLoader(trainset, batch_size=10,\n",
        "                                          shuffle=True, num_workers=2)\n",
        "\n",
        "testset = torchvision.datasets.CIFAR10(root='./data', train=False,\n",
        "                                       download=True, transform=test_transform)\n",
        "testloader = torch.utils.data.DataLoader(testset, batch_size=10,\n",
        "                                         shuffle=False, num_workers=2)\n",
        "\n",
        "classes = ('plane', 'car', 'bird', 'cat',\n",
        "           'deer', 'dog', 'frog', 'horse', 'ship', 'truck')"
      ],
      "execution_count": 0,
      "outputs": [
        {
          "output_type": "stream",
          "text": [
            "Files already downloaded and verified\n",
            "Files already downloaded and verified\n"
          ],
          "name": "stdout"
        }
      ]
    },
    {
      "cell_type": "code",
      "metadata": {
        "id": "kYmSq26eShKe",
        "colab_type": "code",
        "outputId": "8d1157bb-1462-4909-cabd-0d29937abe5b",
        "colab": {
          "base_uri": "https://localhost:8080/",
          "height": 171
        }
      },
      "source": [
        "import matplotlib.pyplot as plt\n",
        "import numpy as np\n",
        "\n",
        "# functions to show an image\n",
        "\n",
        "\n",
        "def imshow(img):\n",
        "    img = img / 2 + 0.5     # unnormalize\n",
        "    npimg = img.numpy()\n",
        "    plt.imshow(np.transpose(npimg, (1, 2, 0)))\n",
        "\n",
        "\n",
        "# get some random training images\n",
        "dataiter = iter(trainloader)\n",
        "images, labels = dataiter.next()\n",
        "\n",
        "# show images\n",
        "imshow(torchvision.utils.make_grid(images))\n",
        "# print labels\n",
        "print(' '.join('%5s' % classes[labels[j]] for j in range(10)))"
      ],
      "execution_count": 0,
      "outputs": [
        {
          "output_type": "stream",
          "text": [
            "Clipping input data to the valid range for imshow with RGB data ([0..1] for floats or [0..255] for integers).\n"
          ],
          "name": "stderr"
        },
        {
          "output_type": "stream",
          "text": [
            " deer horse  bird horse   car horse truck   cat horse  deer\n"
          ],
          "name": "stdout"
        },
        {
          "output_type": "display_data",
          "data": {
            "image/png": "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\n",
            "text/plain": [
              "<Figure size 432x288 with 1 Axes>"
            ]
          },
          "metadata": {
            "tags": [],
            "needs_background": "light"
          }
        }
      ]
    },
    {
      "cell_type": "markdown",
      "metadata": {
        "id": "KoUP71A0SV81",
        "colab_type": "text"
      },
      "source": [
        "## Uczenie sieci - funkcja"
      ]
    },
    {
      "cell_type": "code",
      "metadata": {
        "id": "1OTwvrYBd2Cf",
        "colab_type": "code",
        "cellView": "form",
        "colab": {}
      },
      "source": [
        "nb_epoch = 10 #@param {type: \"integer\"}"
      ],
      "execution_count": 0,
      "outputs": []
    },
    {
      "cell_type": "code",
      "metadata": {
        "id": "glx9mQvCSd6l",
        "colab_type": "code",
        "outputId": "2a231651-5323-4c50-ff5b-31768ff5ef30",
        "colab": {
          "base_uri": "https://localhost:8080/",
          "height": 399
        }
      },
      "source": [
        "def train_net(net, dataloaders, criterion, optimizer, nb_epoch, last_epoch):\n",
        "    since = time.time()\n",
        "\n",
        "    test_acc_array = []\n",
        "    train_acc_array = []\n",
        "    best_net = copy.deepcopy(net.state_dict())\n",
        "    best_acc = 0.0\n",
        "\n",
        "    for epoch in range(nb_epoch):  # loop over the dataset multiple times\n",
        "        last_epoch = last_epoch + 1\n",
        "\n",
        "        for phase in ['train', 'test']:\n",
        "            if phase == 'train':\n",
        "                net.train()\n",
        "                dataloader = dataloaders[0]\n",
        "            else:\n",
        "                net.eval()\n",
        "                dataloader = dataloaders[1]\n",
        "        \n",
        "            running_loss = 0.0\n",
        "            running_correct = 0\n",
        "\n",
        "            for inputs, labels in dataloader:\n",
        "                inputs, labels = inputs.to(device), labels.to(device)\n",
        "                \n",
        "                # zero the parameter gradients\n",
        "                optimizer.zero_grad()\n",
        "\n",
        "                with torch.set_grad_enabled(phase == 'train'):\n",
        "                    # forward + backward + optimize\n",
        "                    outputs = net(inputs)\n",
        "                    loss = criterion(outputs, labels)\n",
        "\n",
        "                    _, prediction = torch.max(outputs, 1)\n",
        "                    \n",
        "                    if phase == 'train':\n",
        "                        loss.backward()\n",
        "                        optimizer.step()\n",
        "\n",
        "                # print statistics\n",
        "                running_loss += loss.item() * inputs.size(0)\n",
        "                running_correct += torch.sum(prediction == labels.data)\n",
        "\n",
        "            epoch_loss = running_loss / len(dataloader.dataset)\n",
        "            epoch_acc = running_correct.double() / len(dataloader.dataset)\n",
        "\n",
        "            print('Epoch %s/%s - %s Loss: %.3f Acc: %.3f' %\n",
        "                (epoch + 1, nb_epoch, phase, epoch_loss, epoch_acc))\n",
        "            \n",
        "            if phase == 'test' and epoch_acc > best_acc:\n",
        "                best_acc = epoch_acc\n",
        "                best_net = copy.deepcopy(net.state_dict())\n",
        "            if phase == 'test':\n",
        "                test_acc_array.append(epoch_acc)\n",
        "            else:\n",
        "                train_acc_array.append(epoch_acc)\n",
        "    \n",
        "    training_time = time.time() - since\n",
        "    print('Finished Training in %.0fm %.0fs' % (training_time // 60, training_time % 60))\n",
        "    print('Best test Accuracy: %.3f' % (best_acc))\n",
        "\n",
        "    net.load_state_dict(best_net)\n",
        "    return net, test_acc_array, train_acc_array\n",
        "\n",
        "net, test_acc_array, train_acc_array = train_net(net, [trainloader, testloader], criterion, optimizer, nb_epoch, last_epoch)"
      ],
      "execution_count": 0,
      "outputs": [
        {
          "output_type": "stream",
          "text": [
            "Epoch 1/10 - train Loss: 0.927 Acc: 0.679\n",
            "Epoch 1/10 - test Loss: 0.676 Acc: 0.766\n",
            "Epoch 2/10 - train Loss: 0.873 Acc: 0.700\n",
            "Epoch 2/10 - test Loss: 0.643 Acc: 0.780\n",
            "Epoch 3/10 - train Loss: 0.873 Acc: 0.701\n",
            "Epoch 3/10 - test Loss: 0.636 Acc: 0.780\n",
            "Epoch 4/10 - train Loss: 0.863 Acc: 0.708\n",
            "Epoch 4/10 - test Loss: 0.623 Acc: 0.782\n",
            "Epoch 5/10 - train Loss: 0.861 Acc: 0.708\n",
            "Epoch 5/10 - test Loss: 0.612 Acc: 0.786\n",
            "Epoch 6/10 - train Loss: 0.865 Acc: 0.709\n",
            "Epoch 6/10 - test Loss: 0.625 Acc: 0.779\n",
            "Epoch 7/10 - train Loss: 0.861 Acc: 0.709\n",
            "Epoch 7/10 - test Loss: 0.612 Acc: 0.788\n",
            "Epoch 8/10 - train Loss: 0.871 Acc: 0.705\n",
            "Epoch 8/10 - test Loss: 0.613 Acc: 0.787\n",
            "Epoch 9/10 - train Loss: 0.858 Acc: 0.710\n",
            "Epoch 9/10 - test Loss: 0.605 Acc: 0.788\n",
            "Epoch 10/10 - train Loss: 0.857 Acc: 0.712\n",
            "Epoch 10/10 - test Loss: 0.630 Acc: 0.783\n",
            "Finished Training in 41m 23s\n",
            "Best test Accuracy: 0.788\n"
          ],
          "name": "stdout"
        }
      ]
    },
    {
      "cell_type": "markdown",
      "metadata": {
        "id": "DFMSpV6Jywf_",
        "colab_type": "text"
      },
      "source": [
        "## Uczenie sieci (kod Maćka)"
      ]
    },
    {
      "cell_type": "code",
      "metadata": {
        "id": "QlEUIGAAU096",
        "colab_type": "code",
        "colab": {}
      },
      "source": [
        "import torch.optim as optim\n",
        "\n",
        "criterion = nn.CrossEntropyLoss()\n",
        "optimizer = optim.SGD(net.parameters(), lr=0.001, momentum=0.9)\n",
        "\n",
        "nb_epoch = 10 #@param {type: \"integer\"}\n",
        "loss_array = []\n",
        "\n",
        "for epoch in range(nb_epoch):  # loop over the dataset multiple times\n",
        "\n",
        "    last_epoch = last_epoch + 1\n",
        "    running_loss = 0.0\n",
        "    for i, data in enumerate(trainloader, 0):\n",
        "        # get the inputs\n",
        "        inputs, labels = data\n",
        "        inputs, labels = inputs.to(device), labels.to(device)\n",
        "        net.train()\n",
        "        # zero the parameter gradients\n",
        "        optimizer.zero_grad()\n",
        "\n",
        "        # forward + backward + optimize\n",
        "        outputs = net(inputs)\n",
        "        loss = criterion(outputs, labels)\n",
        "        loss.backward()\n",
        "        optimizer.step()\n",
        "\n",
        "        # print statistics\n",
        "        running_loss += loss.item()\n",
        "        if i % 2000 == 1999:    # print every 2000 mini-batches\n",
        "            last_loss = running_loss / 2000\n",
        "            print('[%d, %5d] loss: %.3f' %\n",
        "                (last_epoch, i + 1, last_loss))\n",
        "            \n",
        "            loss_array.append(last_loss)\n",
        "\n",
        "            running_loss = 0.0\n",
        "print('Finished Training')"
      ],
      "execution_count": 0,
      "outputs": []
    },
    {
      "cell_type": "markdown",
      "metadata": {
        "id": "M1Zt3tB75fcR",
        "colab_type": "text"
      },
      "source": [
        "## Zapis stanu modelu"
      ]
    },
    {
      "cell_type": "code",
      "metadata": {
        "id": "QMj0iZ3oacsW",
        "colab_type": "code",
        "colab": {}
      },
      "source": [
        "from datetime import datetime\n",
        "\n",
        "def append_timestamp(path):\n",
        "    now = datetime.now()\n",
        "    current_time = now.strftime(\"%y.%m.%d_%H:%M:%S\")\n",
        "    return path.replace(\".\", f\"_{current_time}.\")"
      ],
      "execution_count": 0,
      "outputs": []
    },
    {
      "cell_type": "code",
      "metadata": {
        "id": "P3IHZ3gd5joY",
        "colab_type": "code",
        "colab": {}
      },
      "source": [
        "def save_model():\n",
        "    save_state = True #@param {type: \"boolean\"}\n",
        "    path = \"wlasna_best.pt\" #@param {type: \"string\"}\n",
        "    use_timestamp = True #@param {type: \"boolean\"}\n",
        "\n",
        "    if save_state:\n",
        "        if use_timestamp:\n",
        "            path = append_timestamp(path)\n",
        "        torch.save({\n",
        "                    'epoch': last_epoch,\n",
        "                    'model_state_dict': net.state_dict(),\n",
        "                    'optimizer_state_dict': optimizer.state_dict(),\n",
        "                    'criterion_state_dict': criterion.state_dict(),\n",
        "                    'loss': last_loss,\n",
        "                    'loss_array': loss_array,\n",
        "                    'acc_array': acc_array\n",
        "                    }, BASE_DIR + path)"
      ],
      "execution_count": 0,
      "outputs": []
    },
    {
      "cell_type": "markdown",
      "metadata": {
        "id": "lr82fiblseX7",
        "colab_type": "text"
      },
      "source": [
        "## Uczenie sieci (kod Jacka)"
      ]
    },
    {
      "cell_type": "code",
      "metadata": {
        "id": "Gksdly9nr4wK",
        "colab_type": "code",
        "colab": {}
      },
      "source": [
        "import torch.optim as optim\n",
        "\n",
        "criterion = nn.CrossEntropyLoss()\n",
        "optimizer = optim.Adam(net.parameters(), lr = 0.000002, weight_decay=0.002)\n",
        "\n",
        "def update_classify_table(classify_table, predictions, labels):\n",
        "        for lab, pred in zip(labels, predictions):\n",
        "            classify_table[lab, pred] += 1\n",
        "\n",
        "def train_step(last_epoch):\n",
        "    running_loss = 0.0\n",
        "    for i, (img, label) in enumerate(trainloader):\n",
        "        img = img.to(device)\n",
        "        label = label.to(device)\n",
        "        net.train()\n",
        "        optimizer.zero_grad()\n",
        "        prediction = net(img)\n",
        "        loss = criterion(prediction[0], label)\n",
        "        loss.backward()\n",
        "        optimizer.step()\n",
        "\n",
        "        running_loss += loss.item()\n",
        "    return running_loss\n",
        "    \n",
        "\n",
        "def print_accuracy():\n",
        "    correct = 0\n",
        "    total = 0\n",
        "    loss = 0.0\n",
        "    with torch.no_grad():\n",
        "        net.eval()\n",
        "        classify_table = np.zeros((10,10))\n",
        "        for i, (img, label) in enumerate(testloader):\n",
        "            img = img.to(device)\n",
        "            label = label.to(device)\n",
        "            prediction = net(img)\n",
        "            loss += criterion(prediction[0], label)\n",
        "            _ , prediction = torch.max(prediction[0].data, 1)\n",
        "            update_classify_table(classify_table, prediction, label.data)\n",
        "            correct += torch.sum(prediction == label.data)\n",
        "\n",
        "    accuracy = correct.cpu().numpy() / 10000\n",
        "    print('Accuracy of the network on the 10000 test images: %.2f %%' % (\n",
        "        100 * accuracy))   \n",
        "    return accuracy"
      ],
      "execution_count": 0,
      "outputs": []
    },
    {
      "cell_type": "code",
      "metadata": {
        "id": "uqjQfl713qAU",
        "colab_type": "code",
        "outputId": "7a20284b-0b1e-488b-894b-9b0a0dab9414",
        "colab": {
          "base_uri": "https://localhost:8080/",
          "height": 119
        }
      },
      "source": [
        "nb_epoch =  40#@param {type: \"integer\"}\n",
        "\n",
        "counter = 0\n",
        "\n",
        "for e in range(nb_epoch):\n",
        "    last_epoch = last_epoch + 1\n",
        "    running_loss = train_step(last_epoch)\n",
        "    last_loss = running_loss / 500\n",
        "    print('%d epoch, loss: %.4f' % (last_epoch, last_loss))\n",
        "    loss_array.append(last_loss)\n",
        "    curr_acc = print_accuracy()\n",
        "    acc_array.append(curr_acc)\n",
        "    if curr_acc > max_acc:\n",
        "        save_model()\n",
        "        max_acc = curr_acc\n",
        "        counter = 0\n",
        "    else:\n",
        "        counter = counter + 1\n",
        "        if counter > 2:\n",
        "            break"
      ],
      "execution_count": 62,
      "outputs": [
        {
          "output_type": "stream",
          "text": [
            "58 epoch, loss: 0.3571\n",
            "Accuracy of the network on the 10000 test images: 82.61 %\n",
            "59 epoch, loss: 0.3587\n",
            "Accuracy of the network on the 10000 test images: 82.58 %\n",
            "60 epoch, loss: 0.3625\n",
            "Accuracy of the network on the 10000 test images: 82.65 %\n"
          ],
          "name": "stdout"
        }
      ]
    },
    {
      "cell_type": "code",
      "metadata": {
        "id": "xk-kYoG16kg0",
        "colab_type": "code",
        "colab": {}
      },
      "source": [
        "save_state = True #@param {type: \"boolean\"}\n",
        "path = \"vgg.pt\" #@param {type: \"string\"}\n",
        "use_timestamp = True #@param {type: \"boolean\"}\n",
        "\n",
        "if save_state:\n",
        "    if use_timestamp:\n",
        "        path = append_timestamp(path)\n",
        "    torch.save({\n",
        "                'epoch': last_epoch,\n",
        "                'model_state_dict': net.state_dict(),\n",
        "                'optimizer_state_dict': optimizer.state_dict(),\n",
        "                'criterion_state_dict': criterion.state_dict(),\n",
        "                'test_acc': test_acc_array,\n",
        "                'train_acc': train_acc_array\n",
        "                }, BASE_DIR + path)"
        "nb_epoch =  20#@param {type: \"integer\"}\n",
        "\n",
        "for e in range(nb_epoch):\n",
        "    last_epoch = last_epoch + 1\n",
        "    running_loss = train_step(last_epoch)\n",
        "    last_loss = running_loss / 500\n",
        "    print('%d epoch, loss: %.4f' % (last_epoch, last_loss))\n",
        "    loss_array.append(last_loss)\n",
        "    curr_acc = print_accuracy()\n",
        "    acc_array.append(curr_acc)\n",
        "    if curr_acc > max_acc:\n",
        "        max_acc = curr_acc\n",
        "        break"
      ],
      "execution_count": 0,
      "outputs": []
    },
    {
      "cell_type": "markdown",
      "metadata": {
        "id": "wlBbKXjWzA7U",
        "colab_type": "text"
      },
      "source": [
        "## Wyniki (kod Maćka)"
      ]
    },
    {
      "cell_type": "code",
      "metadata": {
        "id": "Ut2ufVTuVOFH",
        "colab_type": "code",
        "colab": {}
      },
      "source": [
        "correct = 0\n",
        "total = 0\n",
        "with torch.no_grad():\n",
        "    for data in testloader:\n",
        "        images, labels = data\n",
        "        images, labels = images.to(device), labels.to(device)\n",
        "        outputs = net(images)\n",
        "        _, predicted = torch.max(outputs.data, 1)\n",
        "        total += labels.size(0)\n",
        "        correct += (predicted == labels).sum().item()\n",
        "\n",
        "accuracy = correct / total\n",
        "print('Accuracy of the network on the 10000 test images: %d %%' % (\n",
        "    100 * accuracy))"
      ],
      "execution_count": 0,
      "outputs": []
    },
    {
      "cell_type": "code",
      "metadata": {
        "id": "AOYCGXPAVRMZ",
        "colab_type": "code",
        "colab": {}
      },
      "source": [
        "class_correct = list(0. for i in range(10))\n",
        "class_total = list(0. for i in range(10))\n",
        "with torch.no_grad():\n",
        "    for data in testloader:\n",
        "        images, labels = data\n",
        "        images, labels = images.to(device), labels.to(device)\n",
        "        outputs = net(images)\n",
        "        _, predicted = torch.max(outputs, 1)\n",
        "        c = (predicted == labels).squeeze()\n",
        "        for i in range(10):\n",
        "            label = labels[i]\n",
        "            class_correct[label] += c[i].item()\n",
        "            class_total[label] += 1\n",
        "\n",
        "accuracy_per_class = []\n",
        "\n",
        "for i in range(10):\n",
        "    accuracy_per_class.append({\n",
        "                               'class': classes[i], \n",
        "                               'accuracy': class_correct[i] / class_total[i]\n",
        "                               })\n",
        "    print('Accuracy of %5s : %2d %%' % (\n",
        "        classes[i], 100 * class_correct[i] / class_total[i]))"
      ],
      "execution_count": 0,
      "outputs": []
    },
    {
      "cell_type": "markdown",
      "metadata": {
        "id": "urK9SKgdoxj5",
        "colab_type": "text"
      },
      "source": [
        "## Wyniki (kod Maćka + kod Jacka)"
      ]
    },
    {
      "cell_type": "code",
      "metadata": {
        "id": "711ytGwZo1LW",
        "colab_type": "code",
        "colab": {}
      },
      "source": [
        "def update_classify_table(classify_table, predictions, labels):\n",
        "        for lab, pred in zip(labels, predictions):\n",
        "            classify_table[lab, pred] += 1"
      ],
      "execution_count": 0,
      "outputs": []
    },
    {
      "cell_type": "code",
      "metadata": {
        "id": "Z0aczDiMo6-g",
        "colab_type": "code",
        "outputId": "d2937e37-962b-4cf7-dec0-fb5060cb5156",
        "colab": {
          "base_uri": "https://localhost:8080/",
          "height": 34
        }
      },
      "source": [
        "correct = 0\n",
        "total = 0\n",
        "loss = 0.0\n",
        "with torch.no_grad():\n",
        "    net.eval()\n",
        "    classify_table = np.zeros((10,10))\n",
        "    for i, (img, label) in enumerate(testloader):\n",
        "        img = img.to(device)\n",
        "        label = label.to(device)\n",
        "        prediction = net(img)\n",
        "        loss += criterion(prediction, label)\n",
        "        _ , prediction = torch.max(prediction.data, 1)\n",
        "        update_classify_table(classify_table, prediction, label.data)\n",
        "        correct += torch.sum(prediction == label.data)\n",
        "\n",
        "accuracy = correct.cpu().numpy() / 10000\n",
        "print('Accuracy of the network on the 10000 test images: %d %%' % (\n",
        "    100 * accuracy))"
      ],
      "execution_count": 0,
      "outputs": [
        {
          "output_type": "stream",
          "text": [
            "Accuracy of the network on the 10000 test images: 78 %\n"
          ],
          "name": "stdout"
        }
      ]
    },
    {
      "cell_type": "markdown",
      "metadata": {
        "id": "XVzNqlh92IL0",
        "colab_type": "text"
      },
      "source": [
        "## Wyniki (kod Jacka)"
      ]
    },
    {
      "cell_type": "code",
      "metadata": {
        "id": "zleCjE2NOFs5",
        "colab_type": "code",
        "outputId": "c8d5df02-4ece-4dd2-fbad-b97495c35998",
        "colab": {
          "base_uri": "https://localhost:8080/",
          "height": 34
        }
      },
      "source": [
        "correct = 0\n",
        "total = 0\n",
        "loss = 0.0\n",
        "with torch.no_grad():\n",
        "    net.eval()\n",
        "    classify_table = np.zeros((10,10))\n",
        "    for i, (img, label) in enumerate(testloader):\n",
        "        img = img.to(device)\n",
        "        label = label.to(device)\n",
        "        prediction = net(img)\n",
        "        loss += criterion(prediction[0], label)\n",
        "        _ , prediction = torch.max(prediction[0].data, 1)\n",
        "        update_classify_table(classify_table, prediction, label.data)\n",
        "        correct += torch.sum(prediction == label.data)\n",
        "\n",
        "accuracy = correct.cpu().numpy() / 10000\n",
        "print('Accuracy of the network on the 10000 test images: %.2f %%' % (\n",
        "    100 * accuracy)) "
      ],
      "execution_count": 68,
      "outputs": [
        {
          "output_type": "stream",
          "text": [
            "Accuracy of the network on the 10000 test images: 82.65 %\n"
          ],
          "name": "stdout"
        }
      ]
    },
    {
      "cell_type": "markdown",
      "metadata": {
        "id": "HaHcNGxUNxyu",
        "colab_type": "text"
      },
      "source": [
        "### Zapis wyników (opcjonalne)"
      ]
    },
    {
      "cell_type": "code",
      "metadata": {
        "id": "9XSrgc_SN3fr",
        "colab_type": "code",
        "colab": {}
      },
      "source": [
        "save_results_state = True #@param {type: \"boolean\"}\n",
        "use_timestamp = True #@param {type: \"boolean\"}\n",
        "path = \"pytorch_tutorial.json\" #@param {type: \"string\"}\n",
        "\n",
        "from datetime import datetime\n",
        "import json\n",
        "import codecs\n",
        "\n",
        "if save_results_state:\n",
        "    if use_timestamp:\n",
        "        path = append_timestamp(path)\n",
        "\n",
        "    json.dump(dict(accuracy=accuracy, classify_table=accuracy_per_class),\n",
        "              codecs.open(BASE_DIR + path, 'w', encoding='utf-8'))"
      ],
      "execution_count": 0,
      "outputs": []
    },
    {
      "cell_type": "markdown",
      "metadata": {
        "id": "lZ_bbCQBY4ML",
        "colab_type": "text"
      },
      "source": [
        "## Wykresy"
      ]
    },
    {
      "cell_type": "code",
      "metadata": {
        "id": "9OsDHNGBY5P2",
        "colab_type": "code",
        "outputId": "86af2860-1b47-45bf-ac07-3c693e9e8366",
        "colab": {
          "base_uri": "https://localhost:8080/",
          "height": 366
        }
      },
      "source": [
        "import matplotlib.pyplot as plt\n",
        "\n",
        "epochs = range(1, last_epoch + 1)\n",
        "\n",
        "fig = plt.figure()\n",
        "ax = fig.add_axes([0,0,1,1])\n",
        "ax.set_xticks(np.arange(0, last_epoch + 1, 5))\n",
        "\n",
        "plt.scatter(epochs, loss_array)\n",
        "plt.title(\"Wykres funkcji straty dla zbioru treningowego\")\n",
        "plt.xlabel(\"Numer epoki\")\n",
        "plt.ylabel(\"Wartość funkcji straty\")\n",
        "plt.show()"
      ],
      "execution_count": 63,
      "outputs": [
        {
          "output_type": "display_data",
          "data": {
            "image/png": "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\n",
            "text/plain": [
              "<Figure size 432x288 with 1 Axes>"
            ]
          },
          "metadata": {
            "tags": [],
            "needs_background": "light"
          }
        }
      ]
    },
    {
      "cell_type": "code",
      "metadata": {
        "id": "F_lxILwc9Npd",
        "colab_type": "code",
        "outputId": "6ce9fb5c-772d-4998-ae7d-6f805a7aae99",
        "colab": {
          "base_uri": "https://localhost:8080/",
          "height": 366
        }
      },
      "source": [
        "import matplotlib.pyplot as plt\n",
        "\n",
        "epochs = range(1, last_epoch + 1)\n",
        "\n",
        "fig = plt.figure()\n",
        "ax = fig.add_axes([0,0,1,1])\n",
        "ax.set_xticks(np.arange(0, last_epoch + 1, 5))\n",
        "\n",
        "plt.scatter(epochs, acc_array)\n",
        "plt.title(\"Wykres dokładności dla zbioru walidacyjnego\")\n",
        "plt.xlabel(\"Numer epoki\")\n",
        "plt.ylabel(\"Dokładność\")\n",
        "plt.show()"
      ],
      "execution_count": 64,
      "outputs": [
        {
          "output_type": "display_data",
          "data": {
            "image/png": "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\n",
            "text/plain": [
              "<Figure size 432x288 with 1 Axes>"
            ]
          },
          "metadata": {
            "tags": [],
            "needs_background": "light"
          }
        }
      ]
    },
    {
      "cell_type": "code",
      "metadata": {
        "id": "A9N0b7Eq3MN-",
        "colab_type": "code",
        "colab": {}
      },
      "source": [
        "import copy\n",
        "classes = ('plane', 'car', 'bird', 'cat',\n",
        "           'deer', 'dog', 'frog', 'horse', 'ship', 'truck')\n",
        "    \n",
        "def visualise_accuracy_by_class(classify_table):\n",
        "    results = [ classify_table[i,i] / np.sum(classify_table[i, :]) for i in range(10)]\n",
        "\n",
        "    fig = plt.figure()\n",
        "    ax = fig.add_axes([0,0,1,1])\n",
        "\n",
        "    plt.bar(classes, results, color = ['#7e57c2', '#ffc400'])\n",
        "    plt.title(\"Frakcja poprawnych klasyfikacji dla poszczególnych klas\")\n",
        "    plt.xlabel('Klasa')\n",
        "    plt.ylabel('Frakcja poprawnych klasyfikacji')\n",
        "    plt.xticks(classes, rotation='vertical')\n",
        "    if save:\n",
        "        plt.tight_layout()\n",
        "        plt.savefig(path, dpi=300)\n",
        "    plt.show()\n",
        "    \n",
        "def visualise_errors_by_class(classify_table, save=False, path=''):\n",
        "    #indices = np.arange(10)\n",
        "    p = list()\n",
        "    table = copy.deepcopy(classify_table)\n",
        "    table[np.argmax(table, 0), np.argmax(table, 1)] = 0\n",
        "    p.append(plt.bar(classes, table[:, 0]))\n",
        "    for i in range(1, 10):\n",
        "        p.append(plt.bar(classes, table[:, i], bottom = np.sum(table[:, 0:i], 1)))\n",
        "\n",
        "    plt.title(\"Błędy klasyfikacji\")\n",
        "    plt.xticks(classes, rotation='vertical')\n",
        "    plt.xlabel(\"Poprawna klasa\")\n",
        "    plt.ylabel(\"Liczba błędnych klasyfikacji\")\n",
        "    plt.legend(classes, title = \"Klasa zwracana przez sieć\", bbox_to_anchor=(1.05, 1), loc=2, borderaxespad=0.)\n",
        "    if save:\n",
        "        plt.tight_layout()\n",
        "        plt.savefig(path, dpi=150)\n",
        "    plt.show()\n",
        "\n",
        "def visualise_errors_for_class(classify_table, class_index, save=False, path=''):\n",
        "    #indices = np.arange(10)\n",
        "    p = list()\n",
        "    table = copy.deepcopy(classify_table)\n",
        "    table[np.argmax(table, 0), np.argmax(table, 1)] = 0\n",
        "\n",
        "    fig = plt.figure()\n",
        "    ax = fig.add_axes([0,0,1,1])\n",
        "\n",
        "    plt.bar(classes, table[:, class_index])\n",
        "    plt.xticks(classes, rotation='vertical')\n",
        "    plt.title(\"Liczba błędnych klasyfikacji dla klasy: {}\".format(class_index))\n",
        "    plt.xlabel(\"Klasa zwracana przez sieć\")\n",
        "    plt.ylabel(\"Liczba błędnych klasyfikacji\")\n",
        "    if save:\n",
        "        plt.tight_layout()\n",
        "        plt.savefig(path, dpi=150)\n",
        "    plt.show()"
      ],
      "execution_count": 0,
      "outputs": []
    },
    {
      "cell_type": "code",
      "metadata": {
        "id": "FLHPRXQg3Sxs",
        "colab_type": "code",
        "outputId": "0cbe885d-3653-4ecb-d0ea-33dc840b95d3",
        "colab": {
          "base_uri": "https://localhost:8080/",
          "height": 366
        }
      },
      "source": [
        "visualise_accuracy_by_class(classify_table, True, BASE_DIR + 'vgg-accuracy_by_class.png')"
      ],
      "execution_count": 69,
      "outputs": [
        {
          "output_type": "display_data",
          "data": {
            "image/png": "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\n",
            "text/plain": [
              "<Figure size 432x288 with 1 Axes>"
            ]
          },
          "metadata": {
            "tags": [],
            "needs_background": "light"
          }
        }
      ]
    },
    {
      "cell_type": "code",
      "metadata": {
        "id": "LChXagfO3vl9",
        "colab_type": "code",
        "outputId": "c7983ec5-26e9-4f87-e80a-7be4e4567125",
        "colab": {
          "base_uri": "https://localhost:8080/",
          "height": 297
        }
      },
      "source": [
        "visualise_errors_by_class(classify_table, True, BASE_DIR + 'vgg-errors_by_class.png')"
      ],
      "execution_count": 70,
      "outputs": [
        {
          "output_type": "display_data",
          "data": {
            "image/png": "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\n",
            "text/plain": [
              "<Figure size 432x288 with 1 Axes>"
            ]
          },
          "metadata": {
            "tags": [],
            "needs_background": "light"
          }
        }
      ]
    },
    {
      "cell_type": "code",
      "metadata": {
        "id": "k4A8cUhQ5LxX",
        "colab_type": "code",
        "outputId": "00318bc7-5afe-46b4-919c-ec47a097e0ea",
        "colab": {
          "base_uri": "https://localhost:8080/",
          "height": 366
        }
      },
      "source": [
        "visualise_errors_for_class(classify_table, 3, True, BASE_DIR + 'vgg-errors_for_class.png')"
      ],
      "execution_count": 71,
      "outputs": [
        {
          "output_type": "display_data",
          "data": {
            "image/png": "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\n",
            "text/plain": [
              "<Figure size 432x288 with 1 Axes>"
            ]
          },
          "metadata": {
            "tags": [],
            "needs_background": "light"
          }
        }
      ]
    }
  ]
}